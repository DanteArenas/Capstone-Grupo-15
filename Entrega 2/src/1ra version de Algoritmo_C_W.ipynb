{
  "nbformat": 4,
  "nbformat_minor": 0,
  "metadata": {
    "colab": {
      "provenance": []
    },
    "kernelspec": {
      "name": "python3",
      "display_name": "Python 3"
    },
    "language_info": {
      "name": "python"
    }
  },
  "cells": [
    {
      "cell_type": "code",
      "source": [
        "import pandas as pd\n",
        "import numpy as np\n",
        "from scipy.spatial.distance import cdist"
      ],
      "metadata": {
        "id": "8syuNrYJli6a"
      },
      "execution_count": 1,
      "outputs": []
    },
    {
      "cell_type": "markdown",
      "source": [
        "Primero, se busca calcular la matriz de distancias eucledianas entre zonas y tiendas."
      ],
      "metadata": {
        "id": "WnomS3a3mROi"
      }
    },
    {
      "cell_type": "code",
      "execution_count": 4,
      "metadata": {
        "colab": {
          "base_uri": "https://localhost:8080/"
        },
        "id": "EM567sdulYzu",
        "outputId": "a897b125-54bb-44e0-f637-1186d667aa31"
      },
      "outputs": [
        {
          "output_type": "stream",
          "name": "stdout",
          "text": [
            "id_tienda         1          2          3          4          5         6   \\\n",
            "id_zona                                                                      \n",
            "1          24.596748  56.080300  50.566788  63.529521  56.885851  4.472136   \n",
            "2          23.706539  55.569776  50.159745  63.063460  56.718604  3.605551   \n",
            "3          22.825424  55.072679  49.769469  62.609903  56.568542  2.828427   \n",
            "4          21.954498  54.589376  49.396356  62.169124  56.435804  2.236068   \n",
            "5          21.095023  54.120237  49.040799  61.741396  56.320511  2.000000   \n",
            "\n",
            "id_tienda         7          8          9          10         11         12  \\\n",
            "id_zona                                                                       \n",
            "1          30.805844  47.265209  21.954498  56.320511  30.083218  46.861498   \n",
            "2          30.000000  47.169906  21.095023  56.044625  29.732137  46.227697   \n",
            "3          29.206164  47.095647  20.248457  55.785303  29.410882  45.607017   \n",
            "4          28.425341  47.042534  19.416488  55.542776  29.120440  45.000000   \n",
            "5          27.658633  47.010637  18.601075  55.317267  28.861739  44.407207   \n",
            "\n",
            "id_tienda         13         14         15         16         17  \n",
            "id_zona                                                           \n",
            "1          54.561891  40.012498  34.928498  35.902646  40.249224  \n",
            "2          54.129474  40.000000  34.539832  35.693137  39.812058  \n",
            "3          53.712196  40.012498  34.176015  35.510562  39.395431  \n",
            "4          53.310412  40.049969  33.837849  35.355339  39.000000  \n",
            "5          52.924474  40.112342  33.526109  35.227830  38.626416  \n"
          ]
        }
      ],
      "source": [
        "zonas_data = pd.read_csv('zonas_archivo.csv')\n",
        "tiendas_data = pd.read_csv('tiendas_archivo.csv')\n",
        "\n",
        "coords_zonas = zonas_data[['x_zona', 'y_zona']].values\n",
        "coords_tiendas = tiendas_data[['pos_x', 'pos_y']].values\n",
        "\n",
        "#Se calcula la matriz de distancias entre zonas y tiendas\n",
        "dist_matrix = cdist(coords_zonas, coords_tiendas, metric='euclidean')\n",
        "\n",
        "#Se convierte a df para facilitar lectura\n",
        "dist_df = pd.DataFrame(\n",
        "    dist_matrix,\n",
        "    index=zonas_data['id_zona'],\n",
        "    columns=tiendas_data['id_tienda']\n",
        ")\n",
        "\n",
        "print(dist_df.head())"
      ]
    },
    {
      "cell_type": "markdown",
      "source": [
        "Luego, la matríz de distancias eucledianas entre solo zonas."
      ],
      "metadata": {
        "id": "roH_X4-UmXFs"
      }
    },
    {
      "cell_type": "code",
      "source": [
        "dist_matrix = cdist(coords_zonas, coords_zonas, metric='euclidean')\n",
        "\n",
        "dist_df = pd.DataFrame(\n",
        "    dist_matrix,\n",
        "    index=zonas_data['id_zona'],\n",
        "    columns=zonas_data['id_zona']\n",
        ")\n",
        "\n",
        "print(dist_df.head())"
      ],
      "metadata": {
        "colab": {
          "base_uri": "https://localhost:8080/"
        },
        "id": "mMtgPRIvmbQc",
        "outputId": "60f64790-b223-4ca7-9f42-7c933ef7ce63"
      },
      "execution_count": 5,
      "outputs": [
        {
          "output_type": "stream",
          "name": "stdout",
          "text": [
            "id_zona  1     2     3     4     5     6     7     8     9     10    ...  \\\n",
            "id_zona                                                              ...   \n",
            "1         0.0   1.0   2.0   3.0   4.0   5.0   6.0   7.0   8.0   9.0  ...   \n",
            "2         1.0   0.0   1.0   2.0   3.0   4.0   5.0   6.0   7.0   8.0  ...   \n",
            "3         2.0   1.0   0.0   1.0   2.0   3.0   4.0   5.0   6.0   7.0  ...   \n",
            "4         3.0   2.0   1.0   0.0   1.0   2.0   3.0   4.0   5.0   6.0  ...   \n",
            "5         4.0   3.0   2.0   1.0   0.0   1.0   2.0   3.0   4.0   5.0  ...   \n",
            "\n",
            "id_zona       2091       2092       2093       2094       2095       2096  \\\n",
            "id_zona                                                                     \n",
            "1        71.840100  72.124892  72.422372  72.732386  73.054774  73.389373   \n",
            "2        71.568149  71.840100  72.124892  72.422372  72.732386  73.054774   \n",
            "3        71.309186  71.568149  71.840100  72.124892  72.422372  72.732386   \n",
            "4        71.063352  71.309186  71.568149  71.840100  72.124892  72.422372   \n",
            "5        70.830784  71.063352  71.309186  71.568149  71.840100  72.124892   \n",
            "\n",
            "id_zona       2097       2098       2099       2100  \n",
            "id_zona                                              \n",
            "1        73.736016  74.094534  74.464757  74.846510  \n",
            "2        73.389373  73.736016  74.094534  74.464757  \n",
            "3        73.054774  73.389373  73.736016  74.094534  \n",
            "4        72.732386  73.054774  73.389373  73.736016  \n",
            "5        72.422372  72.732386  73.054774  73.389373  \n",
            "\n",
            "[5 rows x 2100 columns]\n"
          ]
        }
      ]
    },
    {
      "cell_type": "markdown",
      "source": [
        "Una primera visualización del metodo Clark-Wright:"
      ],
      "metadata": {
        "id": "9xpd4_mSuXYY"
      }
    },
    {
      "cell_type": "code",
      "source": [
        "from itertools import combinations"
      ],
      "metadata": {
        "id": "sA13Gyi5oA9J"
      },
      "execution_count": 6,
      "outputs": []
    },
    {
      "cell_type": "code",
      "source": [
        "clientes_1_data = pd.read_csv('venta_zona_1.csv')\n",
        "flota_data = pd.read_csv('flota.csv')\n",
        "camiones_data = pd.read_csv('vehiculos.csv')\n",
        "\n",
        "# === Calcular demanda por zona ===\n",
        "demanda_por_zona = clientes_1_data.groupby('id_zona')['venta_digital'].sum().reset_index()\n",
        "zonas_datos = pd.merge(demanda_por_zona, zonas_data, on='id_zona')\n",
        "\n",
        "# === Agrupar por tienda física ===\n",
        "tiendas = zonas_datos['tienda_zona'].unique()\n",
        "rutas_totales = {}\n",
        "\n",
        "for tienda in tiendas:\n",
        "    # Subconjunto de zonas asociadas a esta tienda\n",
        "    sub_zonas = zonas_datos[zonas_datos['tienda_zona'] == tienda].copy()\n",
        "    sub_zonas = sub_zonas.reset_index(drop=True)\n",
        "\n",
        "    # Obtener tipo y cantidad de camiones para la tienda\n",
        "    flota_info = flota_data[flota_data['id_tienda'] == tienda]\n",
        "    if flota_info.empty:\n",
        "        print(f\"No hay datos de flota para tienda {tienda}, se omite.\")\n",
        "        continue\n",
        "\n",
        "    id_camion = flota_info.iloc[0]['id_camion']\n",
        "    n_camiones = flota_info.iloc[0]['N']\n",
        "    capacidad = camiones_data.loc[camiones_data['tipo_camion'] == id_camion, 'Q'].values[0]\n",
        "\n",
        "    # Establecer el depósito como primer punto (usamos la primera zona como proxy del depósito)\n",
        "    deposito_coord = sub_zonas.iloc[0][['x_zona', 'y_zona']].values\n",
        "    sub_zonas['nodo'] = range(1, len(sub_zonas) + 1)\n",
        "    zona_id_map = {row['nodo']: row['id_zona'] for _, row in sub_zonas.iterrows()}\n",
        "\n",
        "    coords = np.vstack([deposito_coord, sub_zonas[['x_zona', 'y_zona']].values])\n",
        "    demanda = np.concatenate([[0], sub_zonas['venta_digital'].values])\n",
        "    dist = cdist(coords, coords)\n",
        "\n",
        "    rutas = {i: [0, i, 0] for i in range(1, len(coords))}\n",
        "    savings = []\n",
        "\n",
        "    for i, j in combinations(range(1, len(coords)), 2):\n",
        "        s = dist[0, i] + dist[0, j] - dist[i, j]\n",
        "        savings.append((s, i, j))\n",
        "    savings.sort(reverse=True)\n",
        "\n",
        "    for s, i, j in savings:\n",
        "        ruta_i = next((r for r in rutas.values() if i in r[1:-1]), None)\n",
        "        ruta_j = next((r for r in rutas.values() if j in r[1:-1]), None)\n",
        "\n",
        "        if ruta_i is None or ruta_j is None or ruta_i == ruta_j:\n",
        "            continue\n",
        "\n",
        "        carga_i = sum(demanda[k] for k in ruta_i if k != 0)\n",
        "        carga_j = sum(demanda[k] for k in ruta_j if k != 0)\n",
        "        if carga_i + carga_j > capacidad:\n",
        "            continue\n",
        "\n",
        "        if ruta_i[-2] == i and ruta_j[1] == j:\n",
        "            nueva_ruta = ruta_i[:-1] + ruta_j[1:]\n",
        "        elif ruta_j[-2] == j and ruta_i[1] == i:\n",
        "            nueva_ruta = ruta_j[:-1] + ruta_i[1:]\n",
        "        else:\n",
        "            continue\n",
        "\n",
        "        rutas = {k: v for k, v in rutas.items() if v != ruta_i and v != ruta_j}\n",
        "        rutas[i] = nueva_ruta\n",
        "\n",
        "    # === Seleccionar como máximo N rutas con menor distancia total ===\n",
        "    rutas_finales = []\n",
        "    for ruta in rutas.values():\n",
        "        zonas_ruta = [zona_id_map[i] if i != 0 else f\"DEPOSITO_{tienda}\" for i in ruta]\n",
        "        carga = sum(demanda[i] for i in ruta if i != 0)\n",
        "        distancia = sum(dist[ruta[k]][ruta[k+1]] for k in range(len(ruta)-1))\n",
        "        rutas_finales.append({\n",
        "            'ruta': zonas_ruta,\n",
        "            'carga': carga,\n",
        "            'distancia': round(distancia, 2)\n",
        "        })\n",
        "\n",
        "    rutas_finales.sort(key=lambda r: r['distancia'])  # priorizar rutas cortas\n",
        "    rutas_totales[tienda] = rutas_finales[:int(n_camiones)]\n",
        "\n",
        "# === Mostrar resultados ===\n",
        "for tienda, rutas in rutas_totales.items():\n",
        "    print(f\"\\n Rutas desde tienda: {tienda}\")\n",
        "    for i, r in enumerate(rutas):\n",
        "        print(f\"  Ruta {i+1}: {r['ruta']}, Carga: {r['carga']}, Distancia: {r['distancia']}\")"
      ],
      "metadata": {
        "colab": {
          "base_uri": "https://localhost:8080/"
        },
        "id": "kRJCsdl2ufdm",
        "outputId": "abb76712-429d-4046-c9a2-fb9f52baeaa6"
      },
      "execution_count": 11,
      "outputs": [
        {
          "output_type": "stream",
          "name": "stdout",
          "text": [
            "\n",
            " Rutas desde tienda: 6\n",
            "  Ruta 1: ['DEPOSITO_6', np.int64(1), np.int64(31), np.int64(61), np.int64(91), np.int64(121), np.int64(151), np.int64(181), np.int64(211), np.int64(241), np.int64(271), np.int64(301), np.int64(331), np.int64(361), np.int64(391), np.int64(421), np.int64(451), np.int64(481), np.int64(511), np.int64(482), np.int64(483), np.int64(484), np.int64(454), np.int64(455), np.int64(456), np.int64(457), np.int64(428), np.int64(427), np.int64(426), np.int64(425), np.int64(424), np.int64(394), np.int64(395), np.int64(396), np.int64(397), np.int64(398), np.int64(369), np.int64(368), np.int64(367), np.int64(366), np.int64(365), np.int64(364), np.int64(334), np.int64(304), np.int64(274), np.int64(244), np.int64(214), np.int64(184), np.int64(154), np.int64(152), np.int64(182), np.int64(212), np.int64(242), np.int64(272), np.int64(302), np.int64(332), np.int64(362), np.int64(392), np.int64(422), np.int64(452), np.int64(453), np.int64(423), np.int64(393), np.int64(363), np.int64(333), np.int64(303), np.int64(273), np.int64(243), np.int64(213), np.int64(183), np.int64(153), np.int64(123), np.int64(122), np.int64(92), np.int64(62), np.int64(3), np.int64(33), np.int64(34), np.int64(35), np.int64(36), np.int64(37), np.int64(38), np.int64(39), np.int64(40), np.int64(41), np.int64(42), np.int64(72), np.int64(73), np.int64(103), np.int64(102), np.int64(132), np.int64(162), np.int64(191), np.int64(221), np.int64(250), np.int64(279), np.int64(280), np.int64(309), np.int64(308), np.int64(307), np.int64(306), np.int64(276), np.int64(247), np.int64(218), np.int64(217), np.int64(216), np.int64(187), np.int64(186), np.int64(156), np.int64(125), np.int64(94), np.int64(65), np.int64(66), np.int64(67), np.int64(68), np.int64(69), np.int64(70), np.int64(71), np.int64(101), np.int64(131), np.int64(161), np.int64(190), np.int64(220), np.int64(249), np.int64(278), np.int64(277), np.int64(248), np.int64(219), np.int64(189), np.int64(188), np.int64(158), np.int64(157), np.int64(126), np.int64(97), np.int64(98), np.int64(99), np.int64(100), np.int64(130), np.int64(160), np.int64(159), np.int64(129), np.int64(128), np.int64(127), np.int64(96), np.int64(95), np.int64(64), np.int64(4), np.int64(5), np.int64(6), np.int64(7), np.int64(8), np.int64(9), np.int64(10), np.int64(11), np.int64(12), np.int64(13), np.int64(43), np.int64(44), np.int64(14), np.int64(15), np.int64(16), np.int64(45), np.int64(75), np.int64(74), np.int64(104), np.int64(134), np.int64(133), np.int64(163), np.int64(192), np.int64(222), np.int64(251), np.int64(281), np.int64(310), np.int64(339), np.int64(338), np.int64(337), np.int64(336), np.int64(335), np.int64(305), np.int64(275), np.int64(246), np.int64(245), np.int64(215), np.int64(185), np.int64(155), np.int64(124), np.int64(93), np.int64(63), np.int64(32), np.int64(2), 'DEPOSITO_6'], Carga: 3905881, Distancia: 205.08\n",
            "\n",
            " Rutas desde tienda: 9\n",
            "  Ruta 1: ['DEPOSITO_9', np.int64(17), np.int64(47), np.int64(77), np.int64(78), np.int64(79), np.int64(108), np.int64(107), np.int64(137), np.int64(138), np.int64(168), np.int64(198), np.int64(228), np.int64(258), np.int64(288), np.int64(318), np.int64(348), np.int64(378), np.int64(408), np.int64(438), np.int64(468), np.int64(498), np.int64(499), np.int64(469), np.int64(439), np.int64(409), np.int64(379), np.int64(349), np.int64(319), np.int64(289), np.int64(259), np.int64(229), np.int64(199), np.int64(169), np.int64(139), np.int64(110), np.int64(109), np.int64(80), np.int64(50), np.int64(49), np.int64(48), np.int64(46), np.int64(76), np.int64(106), np.int64(105), np.int64(136), np.int64(135), np.int64(165), np.int64(166), np.int64(167), np.int64(197), np.int64(227), np.int64(257), np.int64(287), np.int64(317), np.int64(347), np.int64(377), np.int64(407), np.int64(437), np.int64(467), np.int64(497), np.int64(527), np.int64(526), np.int64(556), np.int64(525), np.int64(524), np.int64(494), np.int64(495), np.int64(496), np.int64(466), np.int64(436), np.int64(406), np.int64(376), np.int64(346), np.int64(316), np.int64(286), np.int64(256), np.int64(226), np.int64(196), np.int64(194), np.int64(224), np.int64(254), np.int64(284), np.int64(283), np.int64(313), np.int64(343), np.int64(373), np.int64(403), np.int64(433), np.int64(434), np.int64(404), np.int64(374), np.int64(344), np.int64(314), np.int64(312), np.int64(342), np.int64(372), np.int64(402), np.int64(401), np.int64(431), np.int64(432), np.int64(462), np.int64(492), np.int64(493), np.int64(463), np.int64(464), np.int64(465), np.int64(435), np.int64(405), np.int64(375), np.int64(345), np.int64(315), np.int64(285), np.int64(255), np.int64(225), np.int64(195), np.int64(164), np.int64(193), np.int64(223), np.int64(253), np.int64(252), np.int64(282), np.int64(311), np.int64(341), np.int64(340), np.int64(371), np.int64(370), np.int64(400), np.int64(399), np.int64(429), np.int64(430), np.int64(461), np.int64(460), np.int64(459), np.int64(458), np.int64(489), np.int64(490), np.int64(491), np.int64(521), np.int64(522), np.int64(523), np.int64(553), np.int64(554), np.int64(555), np.int64(585), np.int64(586), np.int64(587), np.int64(557), np.int64(558), np.int64(528), np.int64(529), np.int64(530), np.int64(500), np.int64(501), np.int64(471), np.int64(470), np.int64(440), np.int64(441), np.int64(411), np.int64(410), np.int64(380), np.int64(381), np.int64(351), np.int64(350), np.int64(320), np.int64(321), np.int64(291), np.int64(290), np.int64(260), np.int64(261), np.int64(231), np.int64(230), np.int64(201), np.int64(200), np.int64(171), np.int64(170), np.int64(141), np.int64(140), np.int64(111), np.int64(81), np.int64(51), np.int64(21), np.int64(20), np.int64(19), np.int64(18), 'DEPOSITO_9'], Carga: 3896759, Distancia: 193.21\n",
            "\n",
            " Rutas desde tienda: 1\n",
            "  Ruta 1: ['DEPOSITO_1', np.int64(22), np.int64(52), np.int64(82), np.int64(112), np.int64(142), np.int64(172), np.int64(202), np.int64(232), np.int64(262), np.int64(292), np.int64(322), np.int64(352), np.int64(382), np.int64(412), np.int64(442), np.int64(472), np.int64(473), np.int64(443), np.int64(444), np.int64(445), np.int64(415), np.int64(416), np.int64(417), np.int64(418), np.int64(389), np.int64(390), np.int64(360), np.int64(359), np.int64(330), np.int64(329), np.int64(328), np.int64(327), np.int64(326), np.int64(325), np.int64(295), np.int64(296), np.int64(297), np.int64(298), np.int64(299), np.int64(300), np.int64(270), np.int64(269), np.int64(240), np.int64(210), np.int64(239), np.int64(268), np.int64(267), np.int64(266), np.int64(265), np.int64(236), np.int64(235), np.int64(205), np.int64(175), np.int64(146), np.int64(145), np.int64(116), np.int64(86), np.int64(85), np.int64(25), np.int64(26), np.int64(27), np.int64(28), np.int64(29), np.int64(30), np.int64(60), np.int64(90), np.int64(120), np.int64(150), np.int64(180), np.int64(209), np.int64(238), np.int64(237), np.int64(208), np.int64(179), np.int64(149), np.int64(119), np.int64(89), np.int64(59), np.int64(58), np.int64(88), np.int64(118), np.int64(148), np.int64(178), np.int64(207), np.int64(206), np.int64(177), np.int64(176), np.int64(147), np.int64(117), np.int64(87), np.int64(57), np.int64(56), np.int64(55), np.int64(54), np.int64(24), np.int64(83), np.int64(113), np.int64(143), np.int64(173), np.int64(203), np.int64(233), np.int64(263), np.int64(293), np.int64(323), np.int64(353), np.int64(383), np.int64(413), np.int64(414), np.int64(384), np.int64(385), np.int64(386), np.int64(387), np.int64(388), np.int64(358), np.int64(357), np.int64(356), np.int64(355), np.int64(354), np.int64(324), np.int64(294), np.int64(264), np.int64(234), np.int64(204), np.int64(174), np.int64(144), np.int64(115), np.int64(114), np.int64(84), np.int64(53), np.int64(23), 'DEPOSITO_1'], Carga: 2532191, Distancia: 139.28\n",
            "\n",
            " Rutas desde tienda: 7\n",
            "  Ruta 1: ['DEPOSITO_7', np.int64(419), np.int64(448), np.int64(477), np.int64(507), np.int64(506), np.int64(536), np.int64(566), np.int64(565), np.int64(564), np.int64(595), np.int64(594), np.int64(593), np.int64(624), np.int64(625), np.int64(656), np.int64(655), np.int64(654), np.int64(685), np.int64(684), np.int64(683), np.int64(714), np.int64(715), np.int64(716), np.int64(686), np.int64(687), np.int64(657), np.int64(627), np.int64(626), np.int64(596), np.int64(597), np.int64(567), np.int64(537), np.int64(505), np.int64(535), np.int64(534), np.int64(533), np.int64(563), np.int64(562), np.int64(592), np.int64(623), np.int64(622), np.int64(653), np.int64(652), np.int64(621), np.int64(590), np.int64(620), np.int64(651), np.int64(682), np.int64(681), np.int64(650), np.int64(619), np.int64(649), np.int64(680), np.int64(711), np.int64(712), np.int64(713), np.int64(744), np.int64(745), np.int64(746), np.int64(776), np.int64(775), np.int64(805), np.int64(806), np.int64(807), np.int64(777), np.int64(778), np.int64(748), np.int64(747), np.int64(717), np.int64(718), np.int64(688), np.int64(658), np.int64(628), np.int64(598), np.int64(568), np.int64(538), np.int64(508), np.int64(478), np.int64(447), np.int64(446), np.int64(476), np.int64(475), np.int64(474), np.int64(504), np.int64(503), np.int64(502), np.int64(532), np.int64(531), np.int64(561), np.int64(591), np.int64(560), np.int64(559), np.int64(589), np.int64(588), np.int64(618), np.int64(617), np.int64(648), np.int64(679), np.int64(710), np.int64(709), np.int64(740), np.int64(741), np.int64(742), np.int64(743), np.int64(774), np.int64(773), np.int64(772), np.int64(771), np.int64(802), np.int64(803), np.int64(804), np.int64(834), np.int64(835), np.int64(836), np.int64(837), np.int64(838), np.int64(808), np.int64(809), np.int64(810), np.int64(780), np.int64(779), np.int64(749), np.int64(750), np.int64(720), np.int64(719), np.int64(689), np.int64(690), np.int64(660), np.int64(659), np.int64(629), np.int64(630), np.int64(600), np.int64(599), np.int64(569), np.int64(570), np.int64(540), np.int64(539), np.int64(509), np.int64(510), np.int64(480), np.int64(479), np.int64(449), np.int64(450), np.int64(420), 'DEPOSITO_7'], Carga: 3072380, Distancia: 156.01\n",
            "\n",
            " Rutas desde tienda: 11\n",
            "  Ruta 1: ['DEPOSITO_11', np.int64(514), np.int64(544), np.int64(543), np.int64(574), np.int64(604), np.int64(603), np.int64(633), np.int64(634), np.int64(664), np.int64(694), np.int64(724), np.int64(754), np.int64(784), np.int64(814), np.int64(815), np.int64(816), np.int64(846), np.int64(847), np.int64(848), np.int64(878), np.int64(879), np.int64(880), np.int64(881), np.int64(851), np.int64(850), np.int64(849), np.int64(819), np.int64(818), np.int64(817), np.int64(787), np.int64(788), np.int64(789), np.int64(790), np.int64(760), np.int64(759), np.int64(758), np.int64(757), np.int64(727), np.int64(697), np.int64(667), np.int64(638), np.int64(637), np.int64(607), np.int64(577), np.int64(575), np.int64(605), np.int64(635), np.int64(665), np.int64(695), np.int64(725), np.int64(755), np.int64(785), np.int64(786), np.int64(756), np.int64(726), np.int64(696), np.int64(666), np.int64(636), np.int64(606), np.int64(576), np.int64(546), np.int64(545), np.int64(515), np.int64(513), np.int64(512), np.int64(542), np.int64(573), np.int64(572), np.int64(541), np.int64(571), np.int64(602), np.int64(601), np.int64(631), np.int64(632), np.int64(663), np.int64(662), np.int64(661), np.int64(691), np.int64(692), np.int64(693), np.int64(723), np.int64(722), np.int64(721), np.int64(751), np.int64(752), np.int64(753), np.int64(783), np.int64(782), np.int64(781), np.int64(811), np.int64(812), np.int64(813), np.int64(843), np.int64(844), np.int64(845), np.int64(875), np.int64(876), np.int64(877), np.int64(907), np.int64(908), np.int64(909), np.int64(910), np.int64(940), np.int64(941), np.int64(942), np.int64(913), np.int64(912), np.int64(911), np.int64(882), np.int64(883), np.int64(884), np.int64(855), np.int64(856), np.int64(827), np.int64(798), np.int64(769), np.int64(770), np.int64(739), np.int64(768), np.int64(738), np.int64(708), np.int64(678), np.int64(707), np.int64(737), np.int64(766), np.int64(796), np.int64(767), np.int64(797), np.int64(826), np.int64(825), np.int64(854), np.int64(853), np.int64(852), np.int64(822), np.int64(821), np.int64(820), np.int64(791), np.int64(792), np.int64(763), np.int64(734), np.int64(704), np.int64(733), np.int64(762), np.int64(761), np.int64(732), np.int64(703), np.int64(673), np.int64(702), np.int64(731), np.int64(730), np.int64(729), np.int64(728), np.int64(699), np.int64(698), np.int64(669), np.int64(668), np.int64(639), np.int64(640), np.int64(610), np.int64(609), np.int64(608), np.int64(578), np.int64(547), np.int64(516), np.int64(486), np.int64(487), np.int64(488), np.int64(518), np.int64(519), np.int64(520), np.int64(550), np.int64(551), np.int64(552), np.int64(582), np.int64(612), np.int64(583), np.int64(584), np.int64(614), np.int64(615), np.int64(616), np.int64(646), np.int64(676), np.int64(647), np.int64(677), np.int64(706), np.int64(736), np.int64(765), np.int64(794), np.int64(795), np.int64(824), np.int64(823), np.int64(793), np.int64(764), np.int64(735), np.int64(705), np.int64(675), np.int64(645), np.int64(674), np.int64(644), np.int64(643), np.int64(613), np.int64(642), np.int64(672), np.int64(701), np.int64(700), np.int64(671), np.int64(670), np.int64(641), np.int64(611), np.int64(581), np.int64(580), np.int64(579), np.int64(549), np.int64(548), np.int64(517), np.int64(485), 'DEPOSITO_11'], Carga: 4455627, Distancia: 239.12\n",
            "\n",
            " Rutas desde tienda: 15\n",
            "  Ruta 1: ['DEPOSITO_15', np.int64(800), np.int64(801), np.int64(831), np.int64(832), np.int64(833), np.int64(863), np.int64(862), np.int64(861), np.int64(830), np.int64(828), np.int64(857), np.int64(886), np.int64(885), np.int64(915), np.int64(914), np.int64(944), np.int64(943), np.int64(974), np.int64(973), np.int64(972), np.int64(1003), np.int64(1002), np.int64(1033), np.int64(1034), np.int64(1035), np.int64(1004), np.int64(1005), np.int64(1006), np.int64(1007), np.int64(1008), np.int64(978), np.int64(979), np.int64(949), np.int64(950), np.int64(920), np.int64(921), np.int64(892), np.int64(891), np.int64(890), np.int64(860), np.int64(858), np.int64(888), np.int64(887), np.int64(917), np.int64(916), np.int64(946), np.int64(945), np.int64(975), np.int64(976), np.int64(977), np.int64(947), np.int64(948), np.int64(918), np.int64(919), np.int64(889), np.int64(859), np.int64(829), np.int64(799), 'DEPOSITO_15'], Carga: 1150057, Distancia: 63.31\n",
            "\n",
            " Rutas desde tienda: 12\n",
            "  Ruta 1: ['DEPOSITO_12', np.int64(839), np.int64(868), np.int64(897), np.int64(896), np.int64(926), np.int64(927), np.int64(928), np.int64(898), np.int64(867), np.int64(866), np.int64(865), np.int64(895), np.int64(925), np.int64(955), np.int64(956), np.int64(957), np.int64(958), np.int64(988), np.int64(987), np.int64(986), np.int64(985), np.int64(1015), np.int64(1016), np.int64(1017), np.int64(1018), np.int64(1019), np.int64(1020), np.int64(990), np.int64(989), np.int64(959), np.int64(960), np.int64(930), np.int64(929), np.int64(899), np.int64(900), np.int64(870), np.int64(869), np.int64(840), 'DEPOSITO_12'], Carga: 759873, Distancia: 39.66\n",
            "\n",
            " Rutas desde tienda: 16\n",
            "  Ruta 1: ['DEPOSITO_16', np.int64(841), np.int64(871), np.int64(901), np.int64(931), np.int64(932), np.int64(933), np.int64(962), np.int64(963), np.int64(993), np.int64(994), np.int64(995), np.int64(1024), np.int64(1025), np.int64(996), np.int64(967), np.int64(997), np.int64(1026), np.int64(1027), np.int64(998), np.int64(1028), np.int64(999), np.int64(1029), np.int64(1000), np.int64(1030), np.int64(1031), np.int64(1032), np.int64(1001), np.int64(971), np.int64(970), np.int64(969), np.int64(939), np.int64(968), np.int64(938), np.int64(937), np.int64(966), np.int64(936), np.int64(906), np.int64(905), np.int64(934), np.int64(964), np.int64(965), np.int64(935), np.int64(904), np.int64(874), np.int64(903), np.int64(902), np.int64(873), np.int64(872), np.int64(842), 'DEPOSITO_16'], Carga: 1048746, Distancia: 55.21\n",
            "\n",
            " Rutas desde tienda: 17\n",
            "  Ruta 1: ['DEPOSITO_17', np.int64(893), np.int64(922), np.int64(951), np.int64(952), np.int64(983), np.int64(982), np.int64(981), np.int64(980), np.int64(1009), np.int64(1010), np.int64(1011), np.int64(1012), np.int64(1013), np.int64(1014), np.int64(984), np.int64(954), np.int64(953), np.int64(923), np.int64(924), np.int64(894), np.int64(864), 'DEPOSITO_17'], Carga: 456448, Distancia: 23.07\n",
            "\n",
            " Rutas desde tienda: 14\n",
            "  Ruta 1: ['DEPOSITO_14', np.int64(991), np.int64(1021), np.int64(1022), np.int64(1023), np.int64(992), np.int64(961), 'DEPOSITO_14'], Carga: 138108, Distancia: 6.83\n"
          ]
        }
      ]
    }
  ]
}