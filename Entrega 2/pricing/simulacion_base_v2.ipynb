{
  "cells": [
    {
      "cell_type": "markdown",
      "metadata": {
        "id": "bO43rFkn0IHg"
      },
      "source": [
        "### **CASO BASE**: EXTERNALIDAES"
      ]
    },
    {
      "cell_type": "code",
      "execution_count": null,
      "metadata": {
        "colab": {
          "base_uri": "https://localhost:8080/"
        },
        "id": "PTEeBbo4fGyO",
        "outputId": "baa38e5f-5525-43d6-ee50-0d0423f00703"
      },
      "outputs": [
        {
          "name": "stdout",
          "output_type": "stream",
          "text": [
            "   Unnamed: 0  id_zona  id_producto  venta_digital\n",
            "0           0        1            1              1\n",
            "1           1        1            2             23\n",
            "2           2        1            3             37\n",
            "3           3        1            4             18\n",
            "4           4        1            5              1\n"
          ]
        }
      ],
      "source": [
        "import pandas as pd\n",
        "\n",
        "df_venta = pd.read_csv('venta_zona_1_20250115.csv')\n",
        "print(df_venta.head())"
      ]
    },
    {
      "cell_type": "code",
      "execution_count": null,
      "metadata": {
        "colab": {
          "base_uri": "https://localhost:8080/"
        },
        "id": "Y0qf9GISvEU2",
        "outputId": "93149d97-a100-421f-811f-06f889a12de2"
      },
      "outputs": [
        {
          "name": "stdout",
          "output_type": "stream",
          "text": [
            "      id_zona  venta_digital\n",
            "802       803          33710\n",
            "1179     1180          33504\n",
            "1872     1873          33384\n",
            "1308     1309          33253\n",
            "438       439          33236\n"
          ]
        }
      ],
      "source": [
        "# Agrupar correctamente por 'id_zona' y sumar 'venta_digital'\n",
        "suma_por_zona = df_venta.groupby('id_zona')['venta_digital'].sum().reset_index()\n",
        "suma_por_zona = suma_por_zona.sort_values(by='venta_digital', ascending=False)\n",
        "\n",
        "print(suma_por_zona.head())\n"
      ]
    },
    {
      "cell_type": "code",
      "execution_count": null,
      "metadata": {
        "colab": {
          "base_uri": "https://localhost:8080/"
        },
        "id": "qcoC0vjaxluy",
        "outputId": "79db345d-1f2e-4732-da78-2f65efbc068c"
      },
      "outputs": [
        {
          "name": "stdout",
          "output_type": "stream",
          "text": [
            "      id_zona  venta_digital        P_i     A_k(P_i)\n",
            "802       803          33710  1105688.0 -16805.55760\n",
            "1179     1180          33504  1098931.2 -16702.85424\n",
            "1872     1873          33384  1094995.2 -16643.02704\n",
            "1308     1309          33253  1090698.4 -16577.71568\n",
            "438       439          33236  1090140.8 -16569.24016\n"
          ]
        }
      ],
      "source": [
        "# Añadimos la columna P_i = 32.8 * venta_digital\n",
        "suma_por_zona['P_i'] = 32.8 * suma_por_zona['venta_digital']\n",
        "suma_por_zona['A_k(P_i)'] = -0.0152 * suma_por_zona['P_i'] + 0.9\n",
        "\n",
        "print(suma_por_zona.head())"
      ]
    },
    {
      "cell_type": "markdown",
      "metadata": {
        "id": "tW16w1Ds0Qga"
      },
      "source": [
        "Realmente no comparable dado que la probabilidad de entrega es 0 como el precio es muy alto."
      ]
    },
    {
      "cell_type": "code",
      "execution_count": null,
      "metadata": {
        "colab": {
          "base_uri": "https://localhost:8080/"
        },
        "id": "SlDG5_z_XZvD",
        "outputId": "8f455ff9-b4e1-440e-a65c-f35dbb400394"
      },
      "outputs": [
        {
          "name": "stdout",
          "output_type": "stream",
          "text": [
            "utilidad total = 0\n"
          ]
        }
      ],
      "source": [
        "print('utilidad total = 0')"
      ]
    },
    {
      "cell_type": "markdown",
      "metadata": {
        "id": "XP3bqH-m0Ydf"
      },
      "source": [
        "### **CASO BASE**: VALOR 0"
      ]
    },
    {
      "cell_type": "code",
      "execution_count": 2,
      "metadata": {
        "colab": {
          "base_uri": "https://localhost:8080/"
        },
        "id": "dJANFUoZxrou",
        "outputId": "19274fb2-154f-4d35-ec8c-22cb0acf37b6"
      },
      "outputs": [
        {
          "name": "stdout",
          "output_type": "stream",
          "text": [
            "   cluster_ordenado  n_k (total clientes)  centroide       c_k  \\\n",
            "0                 0                   436  27.057647  0.062059   \n",
            "1                 1                  1333  44.859255  0.033653   \n",
            "2                 2                   430  72.690322  0.169047   \n",
            "\n",
            "   p_k (precio óptimo)  U_k (utilidad óptima)  p_k (entero óptimo)  \\\n",
            "0            29.361616            5795.883068            29.361616   \n",
            "1            29.361616           17737.161501            29.361616   \n",
            "2            29.926263            5695.588972            29.926263   \n",
            "\n",
            "   U_k (entero óptimo)  \n",
            "0          5795.883068  \n",
            "1         17737.161501  \n",
            "2          5695.588972  \n"
          ]
        }
      ],
      "source": [
        "import pandas as pd\n",
        "\n",
        "df_simulacion = pd.read_csv('resultados_k3_v2.csv')\n",
        "print(df_simulacion.head())"
      ]
    },
    {
      "cell_type": "code",
      "execution_count": null,
      "metadata": {
        "colab": {
          "base_uri": "https://localhost:8080/"
        },
        "id": "-LREiUxoWgNJ",
        "outputId": "9724ebc4-579c-49f6-b7bf-16b5334b28e2"
      },
      "outputs": [
        {
          "name": "stdout",
          "output_type": "stream",
          "text": [
            "   cluster_ordenado  n_k (total clientes)  centroide  p_k  A_k(p_k)  \\\n",
            "0                 0                   436  27.057647    0       0.9   \n",
            "1                 1                  1333  44.859255    0       0.9   \n",
            "2                 2                   430  72.690322    0       0.9   \n",
            "\n",
            "            U_k  \n",
            "0 -10617.420706  \n",
            "1 -53817.647759  \n",
            "2 -28131.154564  \n"
          ]
        }
      ],
      "source": [
        "beta = 0.0152\n",
        "theta = 0.9\n",
        "\n",
        "df_base= df_simulacion[['cluster_ordenado', 'n_k (total clientes)', 'centroide']].copy()\n",
        "df_base['p_k'] = 0\n",
        "df_base['A_k(p_k)'] = -beta * df_base['p_k'] + theta\n",
        "df_base['U_k'] = df_base['n_k (total clientes)'] * df_base['A_k(p_k)'] * (df_base['p_k'] - df_base['centroide'])\n",
        "\n",
        "print(df_base.head())"
      ]
    },
    {
      "cell_type": "code",
      "execution_count": 4,
      "metadata": {
        "colab": {
          "base_uri": "https://localhost:8080/"
        },
        "id": "c6vGvaLVXP0f",
        "outputId": "ea8580a8-13e5-429e-b5b9-3a6e6dca1e77"
      },
      "outputs": [
        {
          "name": "stdout",
          "output_type": "stream",
          "text": [
            "-92566.22302896503\n"
          ]
        }
      ],
      "source": [
        "utilidad_total = df_base['U_k'].sum()\n",
        "\n",
        "print(utilidad_total)"
      ]
    }
  ],
  "metadata": {
    "colab": {
      "provenance": []
    },
    "kernelspec": {
      "display_name": "Python 3",
      "name": "python3"
    },
    "language_info": {
      "name": "python"
    }
  },
  "nbformat": 4,
  "nbformat_minor": 0
}
