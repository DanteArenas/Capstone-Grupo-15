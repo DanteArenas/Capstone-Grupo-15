{
  "nbformat": 4,
  "nbformat_minor": 0,
  "metadata": {
    "colab": {
      "provenance": []
    },
    "kernelspec": {
      "name": "python3",
      "display_name": "Python 3"
    },
    "language_info": {
      "name": "python"
    }
  },
  "cells": [
    {
      "cell_type": "markdown",
      "source": [
        "Cargamos el dataframe del subproblema de ruteo"
      ],
      "metadata": {
        "id": "uvTTNxRQqJms"
      }
    },
    {
      "cell_type": "code",
      "source": [
        "import pandas as pd\n",
        "\n",
        "df_cw = pd.read_csv('resultados_CW_v2.csv')\n",
        "print(df_cw.head())"
      ],
      "metadata": {
        "colab": {
          "base_uri": "https://localhost:8080/"
        },
        "id": "e98-Eh7-aMcF",
        "outputId": "dc91693b-ff0a-4965-8d46-7abe85775cab"
      },
      "execution_count": 1,
      "outputs": [
        {
          "output_type": "stream",
          "name": "stdout",
          "text": [
            "   tienda                                              rutas  \\\n",
            "0       1  [[322, 352, 382, 412, 442, 472, 473, 443, 413,...   \n",
            "1       2  [[1439, 1438, 1468, 1498, 1528, 1558, 1559, 15...   \n",
            "2       3  [[1371, 1340, 1310, 1311, 1281, 1251, 1252, 12...   \n",
            "3       4  [[1680, 1710, 1740, 1770, 1800, 1830, 1860, 18...   \n",
            "4       5  [[1660, 1630, 1601, 1600, 1570, 1540, 1541, 15...   \n",
            "\n",
            "                                               carga  \\\n",
            "0           [18267016, 71162396, 79738216, 79579833]   \n",
            "1                                         [73796021]   \n",
            "2                     [53177483, 65776720, 79320956]   \n",
            "3           [28498795, 59700901, 79287419, 78771963]   \n",
            "4  [45885567, 111424091, 126920108, 139503929, 13...   \n",
            "\n",
            "                            distancia  carga_total  n_camiones_utilizados  \\\n",
            "0         [12.0, 42.73, 48.49, 48.63]    248747461                      4   \n",
            "1                             [38.06]     73796021                      1   \n",
            "2               [28.49, 33.72, 43.48]    198275159                      3   \n",
            "3        [14.83, 33.72, 43.43, 54.49]    246259078                      4   \n",
            "4  [27.31, 55.14, 63.9, 78.26, 89.76]    563422749                      5   \n",
            "\n",
            "   n_camiones_disponibles  \n",
            "0                       4  \n",
            "1                       1  \n",
            "2                       3  \n",
            "3                       4  \n",
            "4                       5  \n"
          ]
        }
      ]
    },
    {
      "cell_type": "markdown",
      "source": [
        "Separamos las distancias recorridas por cada vehículo en cada tienda"
      ],
      "metadata": {
        "id": "SY-5ioTgqQ8r"
      }
    },
    {
      "cell_type": "code",
      "source": [
        "import ast\n",
        "\n",
        "# Limpiar y transformar la columna 'distancia' (que está en formato string de lista)\n",
        "df_cw['distancia'] = df_cw['distancia'].apply(ast.literal_eval)"
      ],
      "metadata": {
        "id": "uvQzAJCZuN34"
      },
      "execution_count": 2,
      "outputs": []
    },
    {
      "cell_type": "code",
      "source": [
        "distancias = []\n",
        "tiendas = []\n",
        "vehiculos = []\n",
        "\n",
        "# Recorremos cada fila y extraemos los elementos de la lista de distancias\n",
        "for i, row in df_cw.iterrows():\n",
        "    tienda = row['tienda']\n",
        "    dist_list = row['distancia']  # ya es lista\n",
        "    for j, dist in enumerate(dist_list):\n",
        "        distancias.append(float(dist))\n",
        "        tiendas.append(tienda)\n",
        "        vehiculos.append(j)  # índice como identificador del vehículo\n",
        "\n",
        "# Creamos el DataFrame\n",
        "df_distancias = pd.DataFrame({\n",
        "    'tienda': tiendas,\n",
        "    'vehiculo': vehiculos,\n",
        "    'distancia': distancias\n",
        "})\n",
        "\n",
        "print(df_distancias.head())"
      ],
      "metadata": {
        "colab": {
          "base_uri": "https://localhost:8080/"
        },
        "id": "mQE8xLhqavEb",
        "outputId": "1ad8a2ff-35b8-4028-92d1-0c55b13b7ae1"
      },
      "execution_count": 3,
      "outputs": [
        {
          "output_type": "stream",
          "name": "stdout",
          "text": [
            "   tienda  vehiculo  distancia\n",
            "0       1         0      12.00\n",
            "1       1         1      42.73\n",
            "2       1         2      48.49\n",
            "3       1         3      48.63\n",
            "4       2         0      38.06\n"
          ]
        }
      ]
    },
    {
      "cell_type": "code",
      "source": [
        "df_distancias_ordenado = df_distancias.sort_values(by='distancia').reset_index(drop=True)"
      ],
      "metadata": {
        "id": "k7Wj-ry_huib"
      },
      "execution_count": 4,
      "outputs": []
    },
    {
      "cell_type": "markdown",
      "source": [
        "Con las distancias, las agrupamos en clusters los cuales serán nuestros grupos k"
      ],
      "metadata": {
        "id": "TeH3eYfBqbZc"
      }
    },
    {
      "cell_type": "code",
      "source": [
        "import numpy as np\n",
        "from sklearn.cluster import KMeans\n",
        "\n",
        "# Utilizamos la columna 'distancia' del DataFrame ordenado\n",
        "dist_array = df_distancias_ordenado['distancia'].values.reshape(-1, 1)\n",
        "\n",
        "# Clustering con KMeans sobre estas distancias\n",
        "K = 3\n",
        "kmeans = KMeans(n_clusters=K, n_init=10, random_state=42)\n",
        "cluster_labels = kmeans.fit_predict(dist_array)\n",
        "\n",
        "# Ordenamos los centroides y reasignamos etiquetas para que el cluster 0 tenga las distancias más bajas\n",
        "centroids = kmeans.cluster_centers_.flatten()\n",
        "sorted_indices = np.argsort(centroids)\n",
        "label_map = {original: new for new, original in enumerate(sorted_indices)}\n",
        "\n",
        "# Aplicamos el nuevo etiquetado\n",
        "df_distancias_ordenado['cluster'] = cluster_labels\n",
        "df_distancias_ordenado['cluster_ordenado'] = df_distancias_ordenado['cluster'].map(label_map)\n",
        "\n",
        "print(df_distancias_ordenado.head())\n"
      ],
      "metadata": {
        "colab": {
          "base_uri": "https://localhost:8080/"
        },
        "id": "XWh3YrKfcSMI",
        "outputId": "4380081e-f01e-45e0-95d5-1608a4a3cb6e"
      },
      "execution_count": 5,
      "outputs": [
        {
          "output_type": "stream",
          "name": "stdout",
          "text": [
            "   tienda  vehiculo  distancia  cluster  cluster_ordenado\n",
            "0      13         0      10.65        0                 0\n",
            "1       1         0      12.00        0                 0\n",
            "2       4         0      14.83        0                 0\n",
            "3       8         0      17.66        0                 0\n",
            "4      12         0      25.24        0                 0\n"
          ]
        }
      ]
    },
    {
      "cell_type": "markdown",
      "source": [
        "Y sacamos los centroides que utilizaremos para calcular los costos promedios"
      ],
      "metadata": {
        "id": "es-iwPEAqiya"
      }
    },
    {
      "cell_type": "code",
      "source": [
        "centroides_ordenados = df_distancias_ordenado.groupby('cluster_ordenado')['distancia'].mean().reset_index()\n",
        "centroides_ordenados.columns = ['cluster_ordenado', 'centroide']\n",
        "\n",
        "print(centroides_ordenados.head())"
      ],
      "metadata": {
        "colab": {
          "base_uri": "https://localhost:8080/"
        },
        "id": "t6ffsYtzePhT",
        "outputId": "b9840e0e-1f7e-4250-e5c3-0b966d039057"
      },
      "execution_count": 6,
      "outputs": [
        {
          "output_type": "stream",
          "name": "stdout",
          "text": [
            "   cluster_ordenado  centroide\n",
            "0                 0  27.057647\n",
            "1                 1  44.859255\n",
            "2                 2  72.690322\n"
          ]
        }
      ]
    },
    {
      "cell_type": "markdown",
      "source": [
        "Cambiamos el formato de las rutas para utilizar los valores dentro"
      ],
      "metadata": {
        "id": "14KgTHMYqpxl"
      }
    },
    {
      "cell_type": "code",
      "source": [
        "import ast\n",
        "\n",
        "# Limpiar y transformar la columna 'distancia' (que está en formato string de lista)\n",
        "df_cw['rutas'] = df_cw['rutas'].apply(ast.literal_eval)"
      ],
      "metadata": {
        "id": "2JTRb8pbnsqm"
      },
      "execution_count": 7,
      "outputs": []
    },
    {
      "cell_type": "code",
      "source": [
        "print(df_cw.head())"
      ],
      "metadata": {
        "colab": {
          "base_uri": "https://localhost:8080/"
        },
        "id": "foBFpxnDnyR8",
        "outputId": "023a0f00-6321-448c-ebfa-28560366c0ce"
      },
      "execution_count": 8,
      "outputs": [
        {
          "output_type": "stream",
          "name": "stdout",
          "text": [
            "   tienda                                              rutas  \\\n",
            "0       1  [[322, 352, 382, 412, 442, 472, 473, 443, 413,...   \n",
            "1       2  [[1439, 1438, 1468, 1498, 1528, 1558, 1559, 15...   \n",
            "2       3  [[1371, 1340, 1310, 1311, 1281, 1251, 1252, 12...   \n",
            "3       4  [[1680, 1710, 1740, 1770, 1800, 1830, 1860, 18...   \n",
            "4       5  [[1660, 1630, 1601, 1600, 1570, 1540, 1541, 15...   \n",
            "\n",
            "                                               carga  \\\n",
            "0           [18267016, 71162396, 79738216, 79579833]   \n",
            "1                                         [73796021]   \n",
            "2                     [53177483, 65776720, 79320956]   \n",
            "3           [28498795, 59700901, 79287419, 78771963]   \n",
            "4  [45885567, 111424091, 126920108, 139503929, 13...   \n",
            "\n",
            "                            distancia  carga_total  n_camiones_utilizados  \\\n",
            "0         [12.0, 42.73, 48.49, 48.63]    248747461                      4   \n",
            "1                             [38.06]     73796021                      1   \n",
            "2               [28.49, 33.72, 43.48]    198275159                      3   \n",
            "3        [14.83, 33.72, 43.43, 54.49]    246259078                      4   \n",
            "4  [27.31, 55.14, 63.9, 78.26, 89.76]    563422749                      5   \n",
            "\n",
            "   n_camiones_disponibles  \n",
            "0                       4  \n",
            "1                       1  \n",
            "2                       3  \n",
            "3                       4  \n",
            "4                       5  \n"
          ]
        }
      ]
    },
    {
      "cell_type": "markdown",
      "source": [
        "Calculamos los clientes que estarán en cada ruta, dado por el largo de la lista de la ruta"
      ],
      "metadata": {
        "id": "w3atGS7UquYi"
      }
    },
    {
      "cell_type": "code",
      "source": [
        "n_clientes_ruta = []\n",
        "\n",
        "for _, row in df_distancias_ordenado.iterrows():\n",
        "    tienda = row['tienda']\n",
        "    vehiculo_idx = int(row['vehiculo'])  # forzamos entero\n",
        "\n",
        "    rutas_lista = df_cw.loc[df_cw['tienda'] == tienda, 'rutas'].iloc[0]\n",
        "    n_clientes = len(rutas_lista[vehiculo_idx])\n",
        "    n_clientes_ruta.append(n_clientes)\n",
        "\n",
        "# Añadir la columna\n",
        "df_distancias_ordenado['n_clientes_ruta'] = n_clientes_ruta"
      ],
      "metadata": {
        "id": "3ORLboD1kd-Z"
      },
      "execution_count": 9,
      "outputs": []
    },
    {
      "cell_type": "code",
      "source": [
        "print(df_distancias_ordenado.head())"
      ],
      "metadata": {
        "colab": {
          "base_uri": "https://localhost:8080/"
        },
        "id": "R--2k7qGiM2u",
        "outputId": "2db956a4-8620-4b7a-dfd3-e7a10c2b7912"
      },
      "execution_count": 10,
      "outputs": [
        {
          "output_type": "stream",
          "name": "stdout",
          "text": [
            "   tienda  vehiculo  distancia  cluster  cluster_ordenado  n_clientes_ruta\n",
            "0      13         0      10.65        0                 0               10\n",
            "1       1         0      12.00        0                 0               13\n",
            "2       4         0      14.83        0                 0               15\n",
            "3       8         0      17.66        0                 0               17\n",
            "4      12         0      25.24        0                 0               25\n"
          ]
        }
      ]
    },
    {
      "cell_type": "code",
      "source": [
        "nk_por_cluster = df_distancias_ordenado.groupby('cluster_ordenado')['n_clientes_ruta'].sum().reset_index()\n",
        "nk_por_cluster.columns = ['cluster_ordenado', 'n_k (total clientes)']\n",
        "\n",
        "print(nk_por_cluster.head())"
      ],
      "metadata": {
        "colab": {
          "base_uri": "https://localhost:8080/"
        },
        "id": "to44i6V1oDXA",
        "outputId": "e35caf6c-584e-47cb-96e8-ec5f87234e4b"
      },
      "execution_count": 11,
      "outputs": [
        {
          "output_type": "stream",
          "name": "stdout",
          "text": [
            "   cluster_ordenado  n_k (total clientes)\n",
            "0                 0                   436\n",
            "1                 1                  1333\n",
            "2                 2                   430\n"
          ]
        }
      ]
    },
    {
      "cell_type": "markdown",
      "source": [
        "Agrupamos los datos"
      ],
      "metadata": {
        "id": "YJtTSjO8rE8C"
      }
    },
    {
      "cell_type": "code",
      "source": [
        "nk_ck_cluster = pd.merge(nk_por_cluster, centroides_ordenados, on='cluster_ordenado')\n",
        "nk_ck_cluster['c_k'] = nk_ck_cluster['centroide'] / nk_ck_cluster['n_k (total clientes)']\n",
        "\n",
        "print(nk_ck_cluster.head())"
      ],
      "metadata": {
        "colab": {
          "base_uri": "https://localhost:8080/"
        },
        "id": "Ewl0089mo2PU",
        "outputId": "9c0f2eba-a4c3-4fc6-8bea-265860b2586a"
      },
      "execution_count": 12,
      "outputs": [
        {
          "output_type": "stream",
          "name": "stdout",
          "text": [
            "   cluster_ordenado  n_k (total clientes)  centroide       c_k\n",
            "0                 0                   436  27.057647  0.062059\n",
            "1                 1                  1333  44.859255  0.033653\n",
            "2                 2                   430  72.690322  0.169047\n"
          ]
        }
      ]
    },
    {
      "cell_type": "code",
      "source": [
        "import numpy as np\n",
        "\n",
        "# Definimos parámetros de la función de aceptación\n",
        "beta = 0.0152\n",
        "theta = 0.9\n",
        "price_candidates = np.linspace(0, 55.9, 100)\n",
        "\n",
        "# Calculamos precio óptimo para cada cluster\n",
        "pks = []\n",
        "uks = []\n",
        "\n",
        "for _, row in nk_ck_cluster.iterrows():\n",
        "    n_k = row['n_k (total clientes)']\n",
        "    C_k = row['c_k']\n",
        "    A_k = -beta * price_candidates + theta\n",
        "    U_k = n_k * A_k * (price_candidates - C_k)\n",
        "    idx_opt = np.argmax(U_k)\n",
        "    pks.append(price_candidates[idx_opt])\n",
        "    uks.append(U_k[idx_opt])\n",
        "\n",
        "# Añadimos los resultados al DataFrame\n",
        "nk_ck_cluster['p_k (precio óptimo)'] = pks\n",
        "nk_ck_cluster['U_k (utilidad óptima)'] = uks\n",
        "\n",
        "print(nk_ck_cluster.head())\n"
      ],
      "metadata": {
        "colab": {
          "base_uri": "https://localhost:8080/"
        },
        "id": "ltZ_mTo5p5gT",
        "outputId": "b61aa1b3-7bca-487c-e117-893e674c5369"
      },
      "execution_count": 13,
      "outputs": [
        {
          "output_type": "stream",
          "name": "stdout",
          "text": [
            "   cluster_ordenado  n_k (total clientes)  centroide       c_k  \\\n",
            "0                 0                   436  27.057647  0.062059   \n",
            "1                 1                  1333  44.859255  0.033653   \n",
            "2                 2                   430  72.690322  0.169047   \n",
            "\n",
            "   p_k (precio óptimo)  U_k (utilidad óptima)  \n",
            "0            29.361616            5795.883068  \n",
            "1            29.361616           17737.161501  \n",
            "2            29.926263            5695.588972  \n"
          ]
        }
      ]
    },
    {
      "cell_type": "code",
      "source": [
        "pip install pulp"
      ],
      "metadata": {
        "colab": {
          "base_uri": "https://localhost:8080/"
        },
        "id": "0S0pptnMssW6",
        "outputId": "f1674c1d-10b9-4c7f-a249-12afb9ccb6eb"
      },
      "execution_count": 14,
      "outputs": [
        {
          "output_type": "stream",
          "name": "stdout",
          "text": [
            "Collecting pulp\n",
            "  Downloading pulp-3.1.1-py3-none-any.whl.metadata (1.3 kB)\n",
            "Downloading pulp-3.1.1-py3-none-any.whl (16.4 MB)\n",
            "\u001b[2K   \u001b[90m━━━━━━━━━━━━━━━━━━━━━━━━━━━━━━━━━━━━━━━━\u001b[0m \u001b[32m16.4/16.4 MB\u001b[0m \u001b[31m94.9 MB/s\u001b[0m eta \u001b[36m0:00:00\u001b[0m\n",
            "\u001b[?25hInstalling collected packages: pulp\n",
            "Successfully installed pulp-3.1.1\n"
          ]
        }
      ]
    },
    {
      "cell_type": "code",
      "source": [
        "from pulp import LpMaximize, LpProblem, LpVariable, lpSum, LpInteger, LpContinuous\n",
        "\n",
        "# Creamos el problema\n",
        "model = LpProblem(\"Maximizar_Utilidad_Por_Cluster\", LpMaximize)\n",
        "\n",
        "# Parámetros\n",
        "beta = 0.0152\n",
        "theta = 0.9\n",
        "price_candidates = np.linspace(0, 55.9, 100)  # 100 precios posibles\n",
        "price_indices = list(range(len(price_candidates)))\n",
        "\n",
        "# Variables de decisión: una variable binaria para cada combinación (cluster, precio)\n",
        "x = {\n",
        "    (k, i): LpVariable(f\"x_{k}_{i}\", cat='Binary')\n",
        "    for k in nk_ck_cluster.index\n",
        "    for i in price_indices\n",
        "}\n",
        "\n",
        "# Variables auxiliares: precio seleccionado por cluster (para restricción de orden)\n",
        "p_vars = {\n",
        "    k: LpVariable(f\"p_{k}\", lowBound=0, cat=LpContinuous)\n",
        "    for k in nk_ck_cluster.index\n",
        "}\n",
        "\n",
        "# Función objetivo\n",
        "model += lpSum([\n",
        "    row['n_k (total clientes)'] *\n",
        "    ((-beta * price_candidates[i] + theta) *\n",
        "     (price_candidates[i] - row['c_k']) * x[(k, i)])\n",
        "    for k, row in nk_ck_cluster.iterrows()\n",
        "    for i in price_indices\n",
        "])\n",
        "\n",
        "# Restricción 1: solo un precio puede ser seleccionado por cluster\n",
        "for k in nk_ck_cluster.index:\n",
        "    model += lpSum([x[(k, i)] for i in price_indices]) == 1\n",
        "\n",
        "# Restricción 2: definir p_k como el precio efectivo elegido (para ordenamiento)\n",
        "for k in nk_ck_cluster.index:\n",
        "    model += p_vars[k] == lpSum([price_candidates[i] * x[(k, i)] for i in price_indices])\n",
        "\n",
        "# Restricción 3: p_k >= c_k\n",
        "for k, row in nk_ck_cluster.iterrows():\n",
        "    model += p_vars[k] >= row['c_k']\n",
        "\n",
        "# Restricción 4: p_{k+1} >= p_k (orden creciente por cluster ordenado)\n",
        "cluster_indices = list(nk_ck_cluster.index)\n",
        "for k1, k2 in zip(cluster_indices, cluster_indices[1:]):\n",
        "    model += p_vars[k2] >= p_vars[k1]\n",
        "\n",
        "# Resolver el modelo\n",
        "model.solve()\n",
        "\n",
        "# Extraer precios óptimos\n",
        "optimal_prices = []\n",
        "optimal_utils = []\n",
        "\n",
        "for k in nk_ck_cluster.index:\n",
        "    selected_i = [i for i in price_indices if x[(k, i)].value() == 1][0]\n",
        "    p_opt = price_candidates[selected_i]\n",
        "    n_k = nk_ck_cluster.loc[k, 'n_k (total clientes)']\n",
        "    c_k = nk_ck_cluster.loc[k, 'c_k']\n",
        "    A_k = -beta * p_opt + theta\n",
        "    U_k = n_k * A_k * (p_opt - c_k)\n",
        "    optimal_prices.append(p_opt)\n",
        "    optimal_utils.append(U_k)\n",
        "\n",
        "# Actualizar el DataFrame\n",
        "nk_ck_cluster['p_k (entero óptimo)'] = optimal_prices\n",
        "nk_ck_cluster['U_k (entero óptimo)'] = optimal_utils\n",
        "\n",
        "print(nk_ck_cluster.head())"
      ],
      "metadata": {
        "colab": {
          "base_uri": "https://localhost:8080/"
        },
        "id": "_2cXQH_YsrE7",
        "outputId": "9b85b794-cf2a-40e9-f9c0-b522e5d8085e"
      },
      "execution_count": 15,
      "outputs": [
        {
          "output_type": "stream",
          "name": "stdout",
          "text": [
            "   cluster_ordenado  n_k (total clientes)  centroide       c_k  \\\n",
            "0                 0                   436  27.057647  0.062059   \n",
            "1                 1                  1333  44.859255  0.033653   \n",
            "2                 2                   430  72.690322  0.169047   \n",
            "\n",
            "   p_k (precio óptimo)  U_k (utilidad óptima)  p_k (entero óptimo)  \\\n",
            "0            29.361616            5795.883068            29.361616   \n",
            "1            29.361616           17737.161501            29.361616   \n",
            "2            29.926263            5695.588972            29.926263   \n",
            "\n",
            "   U_k (entero óptimo)  \n",
            "0          5795.883068  \n",
            "1         17737.161501  \n",
            "2          5695.588972  \n"
          ]
        }
      ]
    },
    {
      "cell_type": "code",
      "source": [
        "nk_ck_cluster.to_csv('nk_ck_cluster.csv', index=False)"
      ],
      "metadata": {
        "id": "kN_r46h11SIW"
      },
      "execution_count": 16,
      "outputs": []
    },
    {
      "cell_type": "code",
      "source": [
        "utilidad_total = nk_ck_cluster['U_k (utilidad óptima)'].sum()\n",
        "utilidad_total_e = nk_ck_cluster['U_k (entero óptimo)'].sum()\n",
        "\n",
        "\n",
        "print(utilidad_total)\n",
        "print(utilidad_total_e)"
      ],
      "metadata": {
        "colab": {
          "base_uri": "https://localhost:8080/"
        },
        "id": "GohI9Tbvu5uZ",
        "outputId": "2464c307-2a4a-48aa-a380-14de773af9a8"
      },
      "execution_count": 17,
      "outputs": [
        {
          "output_type": "stream",
          "name": "stdout",
          "text": [
            "29228.633541136853\n",
            "29228.633541136853\n"
          ]
        }
      ]
    }
  ]
}