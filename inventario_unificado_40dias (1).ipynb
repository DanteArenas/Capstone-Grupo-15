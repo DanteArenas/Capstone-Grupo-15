{
  "cells": [
    {
      "cell_type": "markdown",
      "id": "8dbc48c0",
      "metadata": {
        "id": "8dbc48c0"
      },
      "source": [
        "- Gestión dinámica de inventario día a día (físico y digital).\n",
        "- Política de reabastecimiento up-to-level (Q_i, T).\n",
        "- Cálculo de costos y métricas diarias.\n",
        "- Modelo de aceptación de despacho express.\n"
      ]
    },
    {
      "cell_type": "markdown",
      "id": "5a3a1211",
      "metadata": {
        "id": "5a3a1211"
      },
      "source": [
        "## Carga de Datos Reales y Configuración Inicial"
      ]
    },
    {
      "cell_type": "code",
      "execution_count": 71,
      "id": "8c04f4b0",
      "metadata": {},
      "outputs": [],
      "source": [
        "import matplotlib.pyplot as plt\n",
        "import pandas as pd\n",
        "import numpy as np\n",
        "import os"
      ]
    },
    {
      "cell_type": "code",
      "execution_count": 72,
      "id": "e4d632f6",
      "metadata": {
        "id": "e4d632f6"
      },
      "outputs": [],
      "source": [
        "# Función para cargar ventas\n",
        "def cargar_ventas(ruta_base, tipo):\n",
        "    ventas = []\n",
        "    for dia in range(1, 41):\n",
        "        archivo = f\"{ruta_base}_{dia}_20250115.csv\"\n",
        "        if os.path.exists(archivo):\n",
        "            df = pd.read_csv(archivo)\n",
        "            df['dia'] = dia\n",
        "            ventas.append(df)\n",
        "    return pd.concat(ventas, ignore_index=True)\n",
        "\n",
        "# Carga de datos únicos\n",
        "flota = pd.read_csv('flota_20250115.csv')\n",
        "productos = pd.read_csv('productos_20250115.csv')\n",
        "proporcion_eleccion = pd.read_csv('proporcion_eleccion_de_usuarios_20250115.csv')\n",
        "#demanda_insatisfecha = pd.read_csv('demanda_online_insatisfecha_20250115.csv')\n",
        "reorden = pd.read_csv('reorden_20250115.csv')\n",
        "tiendas = pd.read_csv('tiendas_20250115.csv')\n",
        "vehiculos = pd.read_csv('vehiculos_20250115.csv')\n",
        "zonas = pd.read_csv('zonas_20250115.csv')\n",
        "\n",
        "# Carga de ventas físicas y digitales\n",
        "ventas_tienda = cargar_ventas('venta_tienda', 'tienda')\n",
        "ventas_zona = cargar_ventas('venta_zona', 'zona')\n",
        "\n",
        "costo_inventario_unitario = 3.733"
      ]
    },
    {
      "cell_type": "markdown",
      "id": "d2a02d17",
      "metadata": {},
      "source": [
        "Agrego las distribuciones para el enfoque híbrido."
      ]
    },
    {
      "cell_type": "code",
      "execution_count": 73,
      "id": "e247b5ad",
      "metadata": {},
      "outputs": [
        {
          "name": "stdout",
          "output_type": "stream",
          "text": [
            "Distribuciones tienda:\n",
            "   id_producto  pvalue_normal  pvalue_poisson  pvalue_gamma  pvalue_lognorm  \\\n",
            "0            1       0.256858    1.565143e-02      0.446055        0.596663   \n",
            "1            2       0.002863    1.046412e-08      0.005432        0.007642   \n",
            "2            3       0.000163    5.751501e-10      0.000414        0.000680   \n",
            "3            4       0.000022    9.303059e-15      0.000043        0.000062   \n",
            "4            5       0.038732    7.883678e-02      0.161589        0.301996   \n",
            "\n",
            "  mejor_ajuste  \n",
            "0   Log-Normal  \n",
            "1   Log-Normal  \n",
            "2   Log-Normal  \n",
            "3   Log-Normal  \n",
            "4   Log-Normal  \n",
            "Distribuciones zona:\n",
            "   id_producto  pvalue_normal  pvalue_poisson  pvalue_gamma  pvalue_lognorm  \\\n",
            "0            1            NaN             NaN           NaN             NaN   \n",
            "1            2       0.996615        0.136685      0.995499        0.994848   \n",
            "2            3       0.987937        0.128006      0.988811        0.989234   \n",
            "3            4       0.997504        0.008310      0.998130        0.998393   \n",
            "4            5       0.780796        0.000011      0.786738        0.789691   \n",
            "\n",
            "  mejor_ajuste  \n",
            "0    Constante  \n",
            "1       Normal  \n",
            "2   Log-Normal  \n",
            "3   Log-Normal  \n",
            "4   Log-Normal  \n"
          ]
        }
      ],
      "source": [
        "# ===============================\n",
        "# Cargar los ajustes de distribuciones por producto\n",
        "# ===============================\n",
        "\n",
        "# Cargar desde los archivos de resumen de ajustes\n",
        "distribuciones_tienda = pd.read_excel('resumen_tiendas.xlsx')\n",
        "distribuciones_zona = pd.read_excel('resumen_zonas.xlsx')\n",
        "\n",
        "# Revisar algunas filas\n",
        "print(\"Distribuciones tienda:\")\n",
        "print(distribuciones_tienda.head())\n",
        "\n",
        "print(\"Distribuciones zona:\")\n",
        "print(distribuciones_zona.head())"
      ]
    },
    {
      "cell_type": "code",
      "execution_count": 74,
      "id": "6ab4cf4e",
      "metadata": {},
      "outputs": [
        {
          "data": {
            "text/html": [
              "<div>\n",
              "<style scoped>\n",
              "    .dataframe tbody tr th:only-of-type {\n",
              "        vertical-align: middle;\n",
              "    }\n",
              "\n",
              "    .dataframe tbody tr th {\n",
              "        vertical-align: top;\n",
              "    }\n",
              "\n",
              "    .dataframe thead th {\n",
              "        text-align: right;\n",
              "    }\n",
              "</style>\n",
              "<table border=\"1\" class=\"dataframe\">\n",
              "  <thead>\n",
              "    <tr style=\"text-align: right;\">\n",
              "      <th></th>\n",
              "      <th>id_producto</th>\n",
              "      <th>cantidad</th>\n",
              "    </tr>\n",
              "  </thead>\n",
              "  <tbody>\n",
              "    <tr>\n",
              "      <th>0</th>\n",
              "      <td>1</td>\n",
              "      <td>0</td>\n",
              "    </tr>\n",
              "    <tr>\n",
              "      <th>1</th>\n",
              "      <td>2</td>\n",
              "      <td>19</td>\n",
              "    </tr>\n",
              "    <tr>\n",
              "      <th>2</th>\n",
              "      <td>3</td>\n",
              "      <td>21</td>\n",
              "    </tr>\n",
              "    <tr>\n",
              "      <th>3</th>\n",
              "      <td>4</td>\n",
              "      <td>38</td>\n",
              "    </tr>\n",
              "    <tr>\n",
              "      <th>4</th>\n",
              "      <td>5</td>\n",
              "      <td>2</td>\n",
              "    </tr>\n",
              "  </tbody>\n",
              "</table>\n",
              "</div>"
            ],
            "text/plain": [
              "   id_producto  cantidad\n",
              "0            1         0\n",
              "1            2        19\n",
              "2            3        21\n",
              "3            4        38\n",
              "4            5         2"
            ]
          },
          "execution_count": 74,
          "metadata": {},
          "output_type": "execute_result"
        }
      ],
      "source": [
        "ventas_tienda.rename(columns={'venta_tienda': 'cantidad'}, inplace=True)\n",
        "ventas_zona.rename(columns={'venta_digital': 'cantidad'}, inplace=True)\n",
        "\n",
        "# Unificar las ventas observadas físicas y digitales\n",
        "ventas_historicas = pd.concat([\n",
        "    ventas_tienda[['id_producto', 'cantidad']],\n",
        "    ventas_zona[['id_producto', 'cantidad']]\n",
        "], ignore_index=True)\n",
        "\n",
        "\n",
        "ventas_historicas.head()"
      ]
    },
    {
      "cell_type": "code",
      "execution_count": 75,
      "id": "4c8abb3e",
      "metadata": {},
      "outputs": [
        {
          "name": "stdout",
          "output_type": "stream",
          "text": [
            "Ventas físicas:\n",
            "count    689520.000000\n",
            "mean         33.535071\n",
            "std          25.277880\n",
            "min           0.000000\n",
            "25%          15.000000\n",
            "50%          29.000000\n",
            "75%          47.000000\n",
            "max         200.000000\n",
            "Name: cantidad, dtype: float64\n",
            "Valores <= 0: 14818\n",
            "\n",
            "Ventas digitales:\n",
            "count    8.517600e+07\n",
            "mean     2.061633e+01\n",
            "std      1.789347e+01\n",
            "min      0.000000e+00\n",
            "25%      7.000000e+00\n",
            "50%      1.600000e+01\n",
            "75%      2.900000e+01\n",
            "max      2.240000e+02\n",
            "Name: cantidad, dtype: float64\n",
            "Valores <= 0: 2596987\n"
          ]
        }
      ],
      "source": [
        "print(\"Ventas físicas:\")\n",
        "print(ventas_tienda['cantidad'].describe())\n",
        "print(\"Valores <= 0:\", (ventas_tienda['cantidad'] <= 0).sum())\n",
        "\n",
        "print(\"\\nVentas digitales:\")\n",
        "print(ventas_zona['cantidad'].describe())\n",
        "print(\"Valores <= 0:\", (ventas_zona['cantidad'] <= 0).sum())\n"
      ]
    },
    {
      "cell_type": "markdown",
      "id": "94159d85",
      "metadata": {},
      "source": [
        "Generar resumen tiendas con parametros:"
      ]
    },
    {
      "cell_type": "code",
      "execution_count": 76,
      "id": "ecaaa0e0",
      "metadata": {},
      "outputs": [],
      "source": [
        "from scipy.stats import norm, lognorm, gamma, poisson\n",
        "import numpy as np\n",
        "import pandas as pd\n",
        "\n",
        "# === 1. Unir ventas físicas y digitales ===\n",
        "ventas_historicas = pd.concat([\n",
        "    ventas_tienda[['id_producto', 'cantidad']],\n",
        "    ventas_zona[['id_producto', 'cantidad']]\n",
        "], ignore_index=True)\n",
        "\n",
        "# === 2. Ajustar distribuciones por producto usando solo días con demanda positiva ===\n",
        "parametros = []\n",
        "\n",
        "for id_producto, grupo in ventas_historicas.groupby(\"id_producto\"):\n",
        "    cantidades = grupo[\"cantidad\"].values\n",
        "    positivas = cantidades[cantidades > 0]\n",
        "\n",
        "    # Normal (puede incluir ceros)\n",
        "    mu, sigma = norm.fit(cantidades)\n",
        "    parametros.append({\n",
        "        'id_producto': id_producto,\n",
        "        'distribucion': 'Normal',\n",
        "        'parametro1': mu,\n",
        "        'parametro2': sigma\n",
        "    })\n",
        "\n",
        "    # Log-Normal\n",
        "    if len(positivas) > 0:\n",
        "        try:\n",
        "            shape, loc, scale = lognorm.fit(positivas, floc=0)\n",
        "            mu_ln = np.log(scale)\n",
        "            sigma_ln = shape\n",
        "            parametros.append({\n",
        "                'id_producto': id_producto,\n",
        "                'distribucion': 'Log-Normal',\n",
        "                'parametro1': mu_ln,\n",
        "                'parametro2': sigma_ln\n",
        "            })\n",
        "        except Exception as e:\n",
        "            print(f\"[Log-Normal] Producto {id_producto} falló: {e}\")\n",
        "\n",
        "    # Gamma\n",
        "    if len(positivas) > 0:\n",
        "        try:\n",
        "            shape_g, loc_g, scale_g = gamma.fit(positivas, floc=0)\n",
        "            parametros.append({\n",
        "                'id_producto': id_producto,\n",
        "                'distribucion': 'Gamma',\n",
        "                'parametro1': shape_g,\n",
        "                'parametro2': scale_g\n",
        "            })\n",
        "        except Exception as e:\n",
        "            print(f\"[Gamma] Producto {id_producto} falló: {e}\")\n",
        "\n",
        "    # Poisson (permite ceros)\n",
        "    lambda_p = cantidades.mean()\n",
        "    parametros.append({\n",
        "        'id_producto': id_producto,\n",
        "        'distribucion': 'Poisson',\n",
        "        'parametro1': lambda_p,\n",
        "        'parametro2': None\n",
        "    })\n",
        "\n",
        "df_parametros = pd.DataFrame(parametros)\n"
      ]
    },
    {
      "cell_type": "code",
      "execution_count": 77,
      "id": "843e0821",
      "metadata": {},
      "outputs": [],
      "source": [
        "# Cargar archivo original que tiene la columna 'mejor_ajuste'\n",
        "resumen = pd.read_excel('resumen_tiendas.xlsx')  # o 'resumen_zonas.xlsx'\n",
        "\n",
        "# Fusionar para tomar solo la fila con la distribución elegida\n",
        "df_completo = resumen.merge(\n",
        "    df_parametros,\n",
        "    left_on=['id_producto', 'mejor_ajuste'],\n",
        "    right_on=['id_producto', 'distribucion'],\n",
        "    how='left'\n",
        ")\n",
        "\n",
        "# Eliminar columna auxiliar\n",
        "df_completo.drop(columns=['distribucion'], inplace=True)\n",
        "\n",
        "# Guardar Excel final listo para simulación\n",
        "df_completo.to_excel('resumen_tiendas_con_parametros.xlsx', index=False)\n"
      ]
    },
    {
      "cell_type": "markdown",
      "id": "3f6c3747",
      "metadata": {},
      "source": [
        "Generar resumen zonas con parametros:"
      ]
    },
    {
      "cell_type": "code",
      "execution_count": 78,
      "id": "07d8e33a",
      "metadata": {},
      "outputs": [
        {
          "name": "stderr",
          "output_type": "stream",
          "text": [
            "C:\\Users\\raulr\\AppData\\Local\\Packages\\PythonSoftwareFoundation.Python.3.10_qbz5n2kfra8p0\\LocalCache\\local-packages\\Python310\\site-packages\\scipy\\stats\\_continuous_distns.py:3736: RuntimeWarning: divide by zero encountered in scalar divide\n",
            "  aest = (3-s + np.sqrt((s-3)**2 + 24*s)) / (12*s)\n",
            "C:\\Users\\raulr\\AppData\\Local\\Packages\\PythonSoftwareFoundation.Python.3.10_qbz5n2kfra8p0\\LocalCache\\local-packages\\Python310\\site-packages\\scipy\\stats\\_continuous_distns.py:3739: RuntimeWarning: invalid value encountered in scalar subtract\n",
            "  a = optimize.brentq(lambda a: np.log(a) - sc.digamma(a) - s,\n"
          ]
        }
      ],
      "source": [
        "# === 1. Ajuste sobre ventas digitales (zonas) ===\n",
        "parametros_zona = []\n",
        "\n",
        "for id_producto, grupo in ventas_zona.groupby(\"id_producto\"):\n",
        "    cantidades = grupo[\"cantidad\"].values\n",
        "    positivas = cantidades[cantidades > 0]\n",
        "\n",
        "    # Normal\n",
        "    mu, sigma = norm.fit(cantidades)\n",
        "    parametros_zona.append({'id_producto': id_producto, 'distribucion': 'Normal', 'parametro1': mu, 'parametro2': sigma})\n",
        "\n",
        "    # Log-Normal\n",
        "    if len(positivas) > 0:\n",
        "        try:\n",
        "            shape, loc, scale = lognorm.fit(positivas, floc=0)\n",
        "            mu_ln = np.log(scale)\n",
        "            sigma_ln = shape\n",
        "            parametros_zona.append({\n",
        "                'id_producto': id_producto,\n",
        "                'distribucion': 'Log-Normal',\n",
        "                'parametro1': mu_ln,\n",
        "                'parametro2': sigma_ln\n",
        "            })\n",
        "        except:\n",
        "            pass\n",
        "\n",
        "    # Gamma\n",
        "    if len(positivas) > 0:\n",
        "        try:\n",
        "            shape_g, loc_g, scale_g = gamma.fit(positivas, floc=0)\n",
        "            parametros_zona.append({\n",
        "                'id_producto': id_producto,\n",
        "                'distribucion': 'Gamma',\n",
        "                'parametro1': shape_g,\n",
        "                'parametro2': scale_g\n",
        "            })\n",
        "        except:\n",
        "            pass\n",
        "\n",
        "    # Poisson\n",
        "    lambda_p = cantidades.mean()\n",
        "    parametros_zona.append({'id_producto': id_producto, 'distribucion': 'Poisson', 'parametro1': lambda_p, 'parametro2': None})\n",
        "\n",
        "df_param_zona = pd.DataFrame(parametros_zona)\n",
        "\n",
        "# === 2. Fusionar con el resumen original de zonas\n",
        "resumen_zona = pd.read_excel('resumen_zonas.xlsx')\n",
        "\n",
        "df_zona_completo = resumen_zona.merge(\n",
        "    df_param_zona,\n",
        "    left_on=['id_producto', 'mejor_ajuste'],\n",
        "    right_on=['id_producto', 'distribucion'],\n",
        "    how='left'\n",
        ")\n",
        "\n",
        "df_zona_completo.drop(columns=['distribucion'], inplace=True)\n",
        "\n",
        "# === 3. Guardar\n",
        "df_zona_completo.to_excel('resumen_zonas_con_parametros.xlsx', index=False)\n"
      ]
    },
    {
      "cell_type": "markdown",
      "id": "5d6c3a12",
      "metadata": {},
      "source": [
        "Estimación de los parámetros desde la Demanda Histórica"
      ]
    },
    {
      "cell_type": "code",
      "execution_count": 79,
      "id": "5ba1a593",
      "metadata": {},
      "outputs": [
        {
          "name": "stdout",
          "output_type": "stream",
          "text": [
            "   id_producto      media  desviacion\n",
            "0            1   0.426323    0.503162\n",
            "1            2  17.543446    9.578386\n",
            "2            3  19.059412   10.385503\n",
            "3            4  31.033337   16.674072\n",
            "4            5   1.125897    0.708352\n"
          ]
        }
      ],
      "source": [
        "# ===============================\n",
        "# Estimación de parámetros desde la demanda observada\n",
        "# ===============================\n",
        "\n",
        "parametros_estimados = ventas_historicas.groupby('id_producto').agg(\n",
        "    media=('cantidad', 'mean'),\n",
        "    desviacion=('cantidad', 'std')\n",
        ").reset_index()\n",
        "\n",
        "# Visualizar los parámetros estimados\n",
        "print(parametros_estimados.head())\n"
      ]
    },
    {
      "cell_type": "markdown",
      "id": "d7b51257",
      "metadata": {
        "id": "d7b51257"
      },
      "source": [
        "## Inicialización de Stock para Cada Tienda y Producto"
      ]
    },
    {
      "cell_type": "code",
      "execution_count": 80,
      "id": "a30dded9",
      "metadata": {
        "id": "a30dded9"
      },
      "outputs": [
        {
          "name": "stdout",
          "output_type": "stream",
          "text": [
            "Stock inicial por tienda y producto:\n",
            "   Unnamed: 0  id_tienda  id_producto  reorden  frecuencia_reorden  \\\n",
            "0           0          1            1      240                   5   \n",
            "1           1          1            2    11005                   5   \n",
            "2           2          1            3    11915                   5   \n",
            "3           3          1            4    19180                   5   \n",
            "4           4          1            5      685                   5   \n",
            "\n",
            "   stock_actual  \n",
            "0           240  \n",
            "1         11005  \n",
            "2         11915  \n",
            "3         19180  \n",
            "4           685  \n"
          ]
        }
      ],
      "source": [
        "# Inicializar stock directamente desde reorden, incluyendo todo\n",
        "stock = reorden.copy()\n",
        "stock['stock_actual'] = stock['reorden']\n",
        "\n",
        "# Si todos tienen la misma frecuencia\n",
        "frecuencia_reabastecimiento = stock['frecuencia_reorden'].iloc[0]\n",
        "\n",
        "# Mostrar el stock inicial\n",
        "print(\"Stock inicial por tienda y producto:\")\n",
        "print(stock.head())\n",
        "\n"
      ]
    },
    {
      "cell_type": "code",
      "execution_count": 81,
      "id": "50A62IfU2kt4",
      "metadata": {
        "id": "50A62IfU2kt4"
      },
      "outputs": [
        {
          "name": "stdout",
          "output_type": "stream",
          "text": [
            "       Unnamed: 0  id_tienda  id_producto  reorden  frecuencia_reorden  \\\n",
            "0               0          1            1      240                   5   \n",
            "1               1          1            2    11005                   5   \n",
            "2               2          1            3    11915                   5   \n",
            "3               3          1            4    19180                   5   \n",
            "4               4          1            5      685                   5   \n",
            "...           ...        ...          ...      ...                 ...   \n",
            "17233       17233         17         1010     7280                   5   \n",
            "17234       17234         17         1011      345                   5   \n",
            "17235       17235         17         1012     7095                   5   \n",
            "17236       17236         17         1013     1305                   5   \n",
            "17237       17237         17         1014    19545                   5   \n",
            "\n",
            "       stock_actual  \n",
            "0               240  \n",
            "1             11005  \n",
            "2             11915  \n",
            "3             19180  \n",
            "4               685  \n",
            "...             ...  \n",
            "17233          7280  \n",
            "17234           345  \n",
            "17235          7095  \n",
            "17236          1305  \n",
            "17237         19545  \n",
            "\n",
            "[17238 rows x 6 columns]\n"
          ]
        }
      ],
      "source": [
        "print(stock)"
      ]
    },
    {
      "cell_type": "markdown",
      "id": "EY8ViVqt-BZQ",
      "metadata": {
        "id": "EY8ViVqt-BZQ"
      },
      "source": [
        "Preparar Resultados para Registrar Día a Día"
      ]
    },
    {
      "cell_type": "code",
      "execution_count": 82,
      "id": "3026c122",
      "metadata": {},
      "outputs": [],
      "source": [
        "def generar_variacion_estocastica(distribucion, param1, param2=None):\n",
        "    \"\"\"\n",
        "    Genera una variación estocástica según la distribución especificada.\n",
        "\n",
        "    distribucion: str, nombre de la distribución ('Poisson', 'Normal', 'Uniforme', 'LogNormal', 'Gamma', 'Constante')\n",
        "    param1: primer parámetro (lambda, media, min, etc.)\n",
        "    param2: segundo parámetro (desviación estándar, max, etc.)\n",
        "    \"\"\"\n",
        "    if pd.isna(param1) or (param2 is not None and pd.isna(param2)):\n",
        "        return 0  # No hay datos suficientes\n",
        "\n",
        "    if distribucion == 'Poisson':\n",
        "        return np.random.poisson(lam=param1)\n",
        "    \n",
        "    elif distribucion == 'Normal':\n",
        "        if param2 is None:\n",
        "            return 0\n",
        "        return max(0, int(np.random.normal(loc=param1, scale=param2)))\n",
        "    \n",
        "    elif distribucion == 'Uniforme':\n",
        "        if param2 is None:\n",
        "            return 0\n",
        "        return np.random.randint(int(param1), int(param2) + 1)\n",
        "    \n",
        "    elif distribucion == 'Log-Normal' or distribucion == 'LogNormal':\n",
        "        if param2 is None:\n",
        "            return 0\n",
        "        return max(0, int(np.random.lognormal(mean=param1, sigma=param2)))\n",
        "    \n",
        "    elif distribucion == 'Gamma':\n",
        "        if param2 is None:\n",
        "            return 0\n",
        "        return max(0, int(np.random.gamma(shape=param1, scale=param2)))\n",
        "    \n",
        "    elif distribucion == 'Constante':\n",
        "        return int(param1)\n",
        "    \n",
        "    else:\n",
        "        # Si la distribución no se reconoce, no se agrega variación\n",
        "        return 0\n"
      ]
    },
    {
      "cell_type": "markdown",
      "id": "3e798190",
      "metadata": {
        "id": "3e798190"
      },
      "source": [
        "## Simulación de Consumo y Reabastecimiento Día a Día (Caso Base)"
      ]
    },
    {
      "cell_type": "code",
      "execution_count": 83,
      "id": "HxU9t063-A-P",
      "metadata": {
        "id": "HxU9t063-A-P"
      },
      "outputs": [],
      "source": [
        "# Crear una lista vacía para guardar el estado diario\n",
        "registro_dia_a_dia = []\n"
      ]
    },
    {
      "cell_type": "code",
      "execution_count": 84,
      "id": "2abc9063",
      "metadata": {
        "id": "2abc9063"
      },
      "outputs": [
        {
          "name": "stdout",
          "output_type": "stream",
          "text": [
            "Nivel de servicio: 100.00%\n",
            "Costo total de inventario: $8,395,632,353\n",
            "Costo diario promedio: $839,563,235.34\n",
            "Demanda no atendida total: 149\n",
            "\n",
            "Top 10 productos con más unidades no atendidas:\n"
          ]
        },
        {
          "data": {
            "text/html": [
              "<div>\n",
              "<style scoped>\n",
              "    .dataframe tbody tr th:only-of-type {\n",
              "        vertical-align: middle;\n",
              "    }\n",
              "\n",
              "    .dataframe tbody tr th {\n",
              "        vertical-align: top;\n",
              "    }\n",
              "\n",
              "    .dataframe thead th {\n",
              "        text-align: right;\n",
              "    }\n",
              "</style>\n",
              "<table border=\"1\" class=\"dataframe\">\n",
              "  <thead>\n",
              "    <tr style=\"text-align: right;\">\n",
              "      <th></th>\n",
              "      <th>id_producto</th>\n",
              "      <th>no_atendido</th>\n",
              "    </tr>\n",
              "  </thead>\n",
              "  <tbody>\n",
              "    <tr>\n",
              "      <th>0</th>\n",
              "      <td>269.0</td>\n",
              "      <td>147</td>\n",
              "    </tr>\n",
              "    <tr>\n",
              "      <th>1</th>\n",
              "      <td>119.0</td>\n",
              "      <td>1</td>\n",
              "    </tr>\n",
              "    <tr>\n",
              "      <th>2</th>\n",
              "      <td>566.0</td>\n",
              "      <td>1</td>\n",
              "    </tr>\n",
              "    <tr>\n",
              "      <th>3</th>\n",
              "      <td>22.0</td>\n",
              "      <td>0</td>\n",
              "    </tr>\n",
              "    <tr>\n",
              "      <th>4</th>\n",
              "      <td>999.0</td>\n",
              "      <td>0</td>\n",
              "    </tr>\n",
              "    <tr>\n",
              "      <th>5</th>\n",
              "      <td>998.0</td>\n",
              "      <td>0</td>\n",
              "    </tr>\n",
              "    <tr>\n",
              "      <th>6</th>\n",
              "      <td>7.0</td>\n",
              "      <td>0</td>\n",
              "    </tr>\n",
              "    <tr>\n",
              "      <th>7</th>\n",
              "      <td>1014.0</td>\n",
              "      <td>0</td>\n",
              "    </tr>\n",
              "    <tr>\n",
              "      <th>8</th>\n",
              "      <td>5.0</td>\n",
              "      <td>0</td>\n",
              "    </tr>\n",
              "    <tr>\n",
              "      <th>9</th>\n",
              "      <td>8.0</td>\n",
              "      <td>0</td>\n",
              "    </tr>\n",
              "  </tbody>\n",
              "</table>\n",
              "</div>"
            ],
            "text/plain": [
              "   id_producto  no_atendido\n",
              "0        269.0          147\n",
              "1        119.0            1\n",
              "2        566.0            1\n",
              "3         22.0            0\n",
              "4        999.0            0\n",
              "5        998.0            0\n",
              "6          7.0            0\n",
              "7       1014.0            0\n",
              "8          5.0            0\n",
              "9          8.0            0"
            ]
          },
          "metadata": {},
          "output_type": "display_data"
        }
      ],
      "source": [
        "# Cargar parámetros\n",
        "distribuciones_tienda = pd.read_excel('resumen_tiendas_con_parametros.xlsx')\n",
        "distribuciones_zona = pd.read_excel('resumen_zonas_con_parametros.xlsx')\n",
        "\n",
        "# Configuración\n",
        "dias_simulados = 10\n",
        "costo_inventario_unitario = 3.733\n",
        "frecuencia_reabastecimiento = 5\n",
        "\n",
        "# Inicializar stock desde reorden y pasar a índice más eficiente\n",
        "stock = reorden[['id_tienda', 'id_producto', 'reorden']].copy()\n",
        "stock['stock_actual'] = stock['reorden']\n",
        "stock.set_index(['id_tienda', 'id_producto'], inplace=True)\n",
        "\n",
        "# Registro de resultados\n",
        "registro_dia_a_dia = []\n",
        "costo_inventario_total = 0\n",
        "\n",
        "# Simulación principal\n",
        "for dia in range(1, dias_simulados + 1):\n",
        "    # Cargar ventas\n",
        "    vt = ventas_tienda[ventas_tienda['dia'] == dia].copy()\n",
        "    vt.rename(columns={'venta_tienda': 'cantidad'}, inplace=True)\n",
        "    vz = ventas_zona[ventas_zona['dia'] == dia].copy()\n",
        "    vz.rename(columns={'venta_digital': 'cantidad'}, inplace=True)\n",
        "\n",
        "    # Agrupar demanda\n",
        "    demanda_dia = pd.concat([vt, vz], ignore_index=True)\n",
        "    demanda_dia = demanda_dia.groupby(['id_tienda', 'id_producto'])['cantidad'].sum().reset_index()\n",
        "\n",
        "    # Ajustar demanda\n",
        "    demanda_ajustada = []\n",
        "    for _, row in demanda_dia.iterrows():\n",
        "        id_tienda = row['id_tienda']\n",
        "        id_producto = row['id_producto']\n",
        "        base = row['cantidad']\n",
        "\n",
        "        fila_t = distribuciones_tienda[distribuciones_tienda['id_producto'] == id_producto]\n",
        "        fila_z = distribuciones_zona[distribuciones_zona['id_producto'] == id_producto]\n",
        "\n",
        "        if not fila_t.empty:\n",
        "            dist = fila_t['mejor_ajuste'].values[0]\n",
        "            p1 = fila_t['parametro1'].values[0]\n",
        "            p2 = fila_t['parametro2'].values[0] if 'parametro2' in fila_t.columns else None\n",
        "        elif not fila_z.empty:\n",
        "            dist = fila_z['mejor_ajuste'].values[0]\n",
        "            p1 = fila_z['parametro1'].values[0]\n",
        "            p2 = fila_z['parametro2'].values[0] if 'parametro2' in fila_z.columns else None\n",
        "        else:\n",
        "            dist, p1, p2 = None, None, None\n",
        "\n",
        "        variacion = generar_variacion_estocastica(dist, p1, p2) if dist else 0\n",
        "        total = max(0, int(base + variacion))\n",
        "        demanda_ajustada.append((id_tienda, id_producto, total))\n",
        "\n",
        "    # Procesar demanda\n",
        "    for id_tienda, id_producto, cantidad in demanda_ajustada:\n",
        "        if (id_tienda, id_producto) in stock.index:\n",
        "            disponible = stock.at[(id_tienda, id_producto), 'stock_actual']\n",
        "            atendido = min(disponible, cantidad)\n",
        "            no_atendido = cantidad - atendido\n",
        "            stock.at[(id_tienda, id_producto), 'stock_actual'] -= atendido\n",
        "\n",
        "            registro_dia_a_dia.append({\n",
        "                'dia': dia,\n",
        "                'id_tienda': id_tienda,\n",
        "                'id_producto': id_producto,\n",
        "                'demanda': cantidad,\n",
        "                'atendido': atendido,\n",
        "                'no_atendido': no_atendido,\n",
        "                'stock_restante': stock.at[(id_tienda, id_producto), 'stock_actual']\n",
        "            })\n",
        "\n",
        "    # Calcular costo del día\n",
        "    stock_total = stock['stock_actual'].sum()\n",
        "    costo_dia = stock_total * costo_inventario_unitario\n",
        "    costo_inventario_total += costo_dia\n",
        "\n",
        "    # Reabastecer si corresponde\n",
        "    if dia % frecuencia_reabastecimiento == 0:\n",
        "        stock['stock_actual'] += stock['reorden'] - stock['stock_actual']\n",
        "\n",
        "# KPIs finales\n",
        "resultados_df = pd.DataFrame(registro_dia_a_dia)\n",
        "nivel_servicio = resultados_df['atendido'].sum() / resultados_df['demanda'].sum()\n",
        "costo_diario_promedio = costo_inventario_total / dias_simulados\n",
        "demanda_no_atendida_total = resultados_df['no_atendido'].sum()\n",
        "top_n_productos = resultados_df.groupby('id_producto')['no_atendido'] \\\n",
        "                               .sum().sort_values(ascending=False).head(10).reset_index()\n",
        "\n",
        "# Mostrar KPIs\n",
        "print(f\"Nivel de servicio: {nivel_servicio:.2%}\")\n",
        "print(f\"Costo total de inventario: ${costo_inventario_total:,.0f}\")\n",
        "print(f\"Costo diario promedio: ${costo_diario_promedio:,.2f}\")\n",
        "print(f\"Demanda no atendida total: {demanda_no_atendida_total:,.0f}\")\n",
        "print(\"\\nTop 10 productos con más unidades no atendidas:\")\n",
        "display(top_n_productos)\n"
      ]
    },
    {
      "cell_type": "code",
      "execution_count": 88,
      "id": "e222cf65",
      "metadata": {},
      "outputs": [
        {
          "data": {
            "text/plain": [
              "count    17238.00000\n",
              "mean     13205.86959\n",
              "std      10762.06675\n",
              "min          0.00000\n",
              "25%       5110.00000\n",
              "50%      10485.00000\n",
              "75%      18672.50000\n",
              "max      62415.00000\n",
              "Name: reorden, dtype: float64"
            ]
          },
          "execution_count": 88,
          "metadata": {},
          "output_type": "execute_result"
        }
      ],
      "source": [
        "reorden['reorden'].describe()\n"
      ]
    },
    {
      "cell_type": "code",
      "execution_count": 89,
      "id": "b82d9dee",
      "metadata": {},
      "outputs": [
        {
          "data": {
            "text/plain": [
              "np.int64(227642780)"
            ]
          },
          "execution_count": 89,
          "metadata": {},
          "output_type": "execute_result"
        }
      ],
      "source": [
        "stock['stock_actual'].sum()\n"
      ]
    },
    {
      "cell_type": "code",
      "execution_count": 90,
      "id": "65572745",
      "metadata": {},
      "outputs": [
        {
          "name": "stdout",
          "output_type": "stream",
          "text": [
            "Costo día 1: 849790497.74\n"
          ]
        }
      ],
      "source": [
        "print(\"Costo día 1:\", stock['stock_actual'].sum() * costo_inventario_unitario)\n"
      ]
    },
    {
      "cell_type": "code",
      "execution_count": 91,
      "id": "7fa0f704",
      "metadata": {},
      "outputs": [
        {
          "data": {
            "text/html": [
              "<div>\n",
              "<style scoped>\n",
              "    .dataframe tbody tr th:only-of-type {\n",
              "        vertical-align: middle;\n",
              "    }\n",
              "\n",
              "    .dataframe tbody tr th {\n",
              "        vertical-align: top;\n",
              "    }\n",
              "\n",
              "    .dataframe thead th {\n",
              "        text-align: right;\n",
              "    }\n",
              "</style>\n",
              "<table border=\"1\" class=\"dataframe\">\n",
              "  <thead>\n",
              "    <tr style=\"text-align: right;\">\n",
              "      <th></th>\n",
              "      <th>Unnamed: 0</th>\n",
              "      <th>id_tienda</th>\n",
              "      <th>id_producto</th>\n",
              "      <th>reorden</th>\n",
              "      <th>frecuencia_reorden</th>\n",
              "    </tr>\n",
              "  </thead>\n",
              "  <tbody>\n",
              "    <tr>\n",
              "      <th>0</th>\n",
              "      <td>0</td>\n",
              "      <td>1</td>\n",
              "      <td>1</td>\n",
              "      <td>240</td>\n",
              "      <td>5</td>\n",
              "    </tr>\n",
              "    <tr>\n",
              "      <th>1</th>\n",
              "      <td>1</td>\n",
              "      <td>1</td>\n",
              "      <td>2</td>\n",
              "      <td>11005</td>\n",
              "      <td>5</td>\n",
              "    </tr>\n",
              "    <tr>\n",
              "      <th>2</th>\n",
              "      <td>2</td>\n",
              "      <td>1</td>\n",
              "      <td>3</td>\n",
              "      <td>11915</td>\n",
              "      <td>5</td>\n",
              "    </tr>\n",
              "    <tr>\n",
              "      <th>3</th>\n",
              "      <td>3</td>\n",
              "      <td>1</td>\n",
              "      <td>4</td>\n",
              "      <td>19180</td>\n",
              "      <td>5</td>\n",
              "    </tr>\n",
              "    <tr>\n",
              "      <th>4</th>\n",
              "      <td>4</td>\n",
              "      <td>1</td>\n",
              "      <td>5</td>\n",
              "      <td>685</td>\n",
              "      <td>5</td>\n",
              "    </tr>\n",
              "  </tbody>\n",
              "</table>\n",
              "</div>"
            ],
            "text/plain": [
              "   Unnamed: 0  id_tienda  id_producto  reorden  frecuencia_reorden\n",
              "0           0          1            1      240                   5\n",
              "1           1          1            2    11005                   5\n",
              "2           2          1            3    11915                   5\n",
              "3           3          1            4    19180                   5\n",
              "4           4          1            5      685                   5"
            ]
          },
          "execution_count": 91,
          "metadata": {},
          "output_type": "execute_result"
        }
      ],
      "source": [
        "reorden.head()"
      ]
    },
    {
      "cell_type": "code",
      "execution_count": 93,
      "id": "3bdbdf9e",
      "metadata": {},
      "outputs": [
        {
          "data": {
            "text/plain": [
              "17238"
            ]
          },
          "execution_count": 93,
          "metadata": {},
          "output_type": "execute_result"
        }
      ],
      "source": [
        "len(stock)\n"
      ]
    },
    {
      "cell_type": "markdown",
      "id": "a9312987",
      "metadata": {
        "id": "a9312987"
      },
      "source": [
        "## Consolidación de Resultados Diarios (Caso Base)"
      ]
    },
    {
      "cell_type": "code",
      "execution_count": 85,
      "id": "0f0fad7b",
      "metadata": {
        "id": "0f0fad7b"
      },
      "outputs": [
        {
          "name": "stdout",
          "output_type": "stream",
          "text": [
            "Resumen de la evolución del inventario día a día:\n",
            "        dia  id_tienda  id_producto  demanda  atendido  no_atendido  \\\n",
            "0         1        1.0          1.0        1         1            0   \n",
            "1         1        1.0          2.0       29        29            0   \n",
            "2         1        1.0          3.0       39        39            0   \n",
            "3         1        1.0          4.0       68        68            0   \n",
            "4         1        1.0          5.0        3         3            0   \n",
            "...     ...        ...          ...      ...       ...          ...   \n",
            "172375   10       17.0       1010.0       57        57            0   \n",
            "172376   10       17.0       1011.0        2         2            0   \n",
            "172377   10       17.0       1012.0       38        38            0   \n",
            "172378   10       17.0       1013.0       12        12            0   \n",
            "172379   10       17.0       1014.0      136       136            0   \n",
            "\n",
            "        stock_restante  \n",
            "0                  239  \n",
            "1                10976  \n",
            "2                11876  \n",
            "3                19112  \n",
            "4                  682  \n",
            "...                ...  \n",
            "172375            7012  \n",
            "172376             333  \n",
            "172377            6874  \n",
            "172378            1264  \n",
            "172379           18912  \n",
            "\n",
            "[172380 rows x 7 columns]\n"
          ]
        }
      ],
      "source": [
        "# Convertir el registro a un DataFrame para análisis posterior\n",
        "resultados_df = pd.DataFrame(registro_dia_a_dia)\n",
        "\n",
        "# Mostrar las primeras filas para revisar el comportamiento\n",
        "print(\"Resumen de la evolución del inventario día a día:\")\n",
        "print(resultados_df)\n"
      ]
    },
    {
      "cell_type": "markdown",
      "id": "IN4ihu_cDrib",
      "metadata": {
        "id": "IN4ihu_cDrib"
      },
      "source": [
        "Resumir Métricas por Día"
      ]
    },
    {
      "cell_type": "code",
      "execution_count": 86,
      "id": "kDQm02ZODsP_",
      "metadata": {
        "id": "kDQm02ZODsP_"
      },
      "outputs": [
        {
          "name": "stdout",
          "output_type": "stream",
          "text": [
            "Resumen diario de demanda, atendido y no atendido:\n",
            "   dia  demanda  atendido  no_atendido\n",
            "0    1   901966    901960            6\n",
            "1    2   896843    896835            8\n",
            "2    3   897663    897654            9\n",
            "3    4   899438    899418           20\n",
            "4    5  1106839   1106810           29\n",
            "5    6   900659    900654            5\n",
            "6    7   896724    896716            8\n",
            "7    8   900598    900588           10\n",
            "8    9   899521    899493           28\n",
            "9   10  1110293   1110267           26\n"
          ]
        }
      ],
      "source": [
        "# Resumen por día para ver cómo evolucionó la operación\n",
        "resumen_dia = resultados_df.groupby('dia').agg({\n",
        "    'demanda': 'sum',\n",
        "    'atendido': 'sum',\n",
        "    'no_atendido': 'sum'\n",
        "}).reset_index()\n",
        "\n",
        "print(\"Resumen diario de demanda, atendido y no atendido:\")\n",
        "print(resumen_dia)\n"
      ]
    },
    {
      "cell_type": "code",
      "execution_count": 94,
      "id": "d3f8464d",
      "metadata": {},
      "outputs": [
        {
          "ename": "KeyError",
          "evalue": "'Column not found: costo_inventario_dia'",
          "output_type": "error",
          "traceback": [
            "\u001b[1;31m---------------------------------------------------------------------------\u001b[0m",
            "\u001b[1;31mKeyError\u001b[0m                                  Traceback (most recent call last)",
            "Cell \u001b[1;32mIn[94], line 4\u001b[0m\n\u001b[0;32m      1\u001b[0m \u001b[38;5;28;01mimport\u001b[39;00m\u001b[38;5;250m \u001b[39m\u001b[38;5;21;01mmatplotlib\u001b[39;00m\u001b[38;5;21;01m.\u001b[39;00m\u001b[38;5;21;01mpyplot\u001b[39;00m\u001b[38;5;250m \u001b[39m\u001b[38;5;28;01mas\u001b[39;00m\u001b[38;5;250m \u001b[39m\u001b[38;5;21;01mplt\u001b[39;00m\n\u001b[0;32m      3\u001b[0m \u001b[38;5;66;03m# Agrupar por día y sumar el costo de inventario diario\u001b[39;00m\n\u001b[1;32m----> 4\u001b[0m costo_por_dia \u001b[38;5;241m=\u001b[39m \u001b[43mpd\u001b[49m\u001b[38;5;241;43m.\u001b[39;49m\u001b[43mDataFrame\u001b[49m\u001b[43m(\u001b[49m\u001b[43mregistro_dia_a_dia\u001b[49m\u001b[43m)\u001b[49m\u001b[38;5;241;43m.\u001b[39;49m\u001b[43mgroupby\u001b[49m\u001b[43m(\u001b[49m\u001b[38;5;124;43m'\u001b[39;49m\u001b[38;5;124;43mdia\u001b[39;49m\u001b[38;5;124;43m'\u001b[39;49m\u001b[43m)\u001b[49m\u001b[43m[\u001b[49m\u001b[38;5;124;43m'\u001b[39;49m\u001b[38;5;124;43mcosto_inventario_dia\u001b[39;49m\u001b[38;5;124;43m'\u001b[39;49m\u001b[43m]\u001b[49m\u001b[38;5;241m.\u001b[39msum()\u001b[38;5;241m.\u001b[39mreset_index()\n\u001b[0;32m      6\u001b[0m \u001b[38;5;66;03m# Graficar\u001b[39;00m\n\u001b[0;32m      7\u001b[0m plt\u001b[38;5;241m.\u001b[39mfigure(figsize\u001b[38;5;241m=\u001b[39m(\u001b[38;5;241m10\u001b[39m, \u001b[38;5;241m6\u001b[39m))\n",
            "File \u001b[1;32m~\\AppData\\Local\\Packages\\PythonSoftwareFoundation.Python.3.10_qbz5n2kfra8p0\\LocalCache\\local-packages\\Python310\\site-packages\\pandas\\core\\groupby\\generic.py:1951\u001b[0m, in \u001b[0;36mDataFrameGroupBy.__getitem__\u001b[1;34m(self, key)\u001b[0m\n\u001b[0;32m   1944\u001b[0m \u001b[38;5;28;01mif\u001b[39;00m \u001b[38;5;28misinstance\u001b[39m(key, \u001b[38;5;28mtuple\u001b[39m) \u001b[38;5;129;01mand\u001b[39;00m \u001b[38;5;28mlen\u001b[39m(key) \u001b[38;5;241m>\u001b[39m \u001b[38;5;241m1\u001b[39m:\n\u001b[0;32m   1945\u001b[0m     \u001b[38;5;66;03m# if len == 1, then it becomes a SeriesGroupBy and this is actually\u001b[39;00m\n\u001b[0;32m   1946\u001b[0m     \u001b[38;5;66;03m# valid syntax, so don't raise\u001b[39;00m\n\u001b[0;32m   1947\u001b[0m     \u001b[38;5;28;01mraise\u001b[39;00m \u001b[38;5;167;01mValueError\u001b[39;00m(\n\u001b[0;32m   1948\u001b[0m         \u001b[38;5;124m\"\u001b[39m\u001b[38;5;124mCannot subset columns with a tuple with more than one element. \u001b[39m\u001b[38;5;124m\"\u001b[39m\n\u001b[0;32m   1949\u001b[0m         \u001b[38;5;124m\"\u001b[39m\u001b[38;5;124mUse a list instead.\u001b[39m\u001b[38;5;124m\"\u001b[39m\n\u001b[0;32m   1950\u001b[0m     )\n\u001b[1;32m-> 1951\u001b[0m \u001b[38;5;28;01mreturn\u001b[39;00m \u001b[38;5;28;43msuper\u001b[39;49m\u001b[43m(\u001b[49m\u001b[43m)\u001b[49m\u001b[38;5;241;43m.\u001b[39;49m\u001b[38;5;21;43m__getitem__\u001b[39;49m\u001b[43m(\u001b[49m\u001b[43mkey\u001b[49m\u001b[43m)\u001b[49m\n",
            "File \u001b[1;32m~\\AppData\\Local\\Packages\\PythonSoftwareFoundation.Python.3.10_qbz5n2kfra8p0\\LocalCache\\local-packages\\Python310\\site-packages\\pandas\\core\\base.py:244\u001b[0m, in \u001b[0;36mSelectionMixin.__getitem__\u001b[1;34m(self, key)\u001b[0m\n\u001b[0;32m    242\u001b[0m \u001b[38;5;28;01melse\u001b[39;00m:\n\u001b[0;32m    243\u001b[0m     \u001b[38;5;28;01mif\u001b[39;00m key \u001b[38;5;129;01mnot\u001b[39;00m \u001b[38;5;129;01min\u001b[39;00m \u001b[38;5;28mself\u001b[39m\u001b[38;5;241m.\u001b[39mobj:\n\u001b[1;32m--> 244\u001b[0m         \u001b[38;5;28;01mraise\u001b[39;00m \u001b[38;5;167;01mKeyError\u001b[39;00m(\u001b[38;5;124mf\u001b[39m\u001b[38;5;124m\"\u001b[39m\u001b[38;5;124mColumn not found: \u001b[39m\u001b[38;5;132;01m{\u001b[39;00mkey\u001b[38;5;132;01m}\u001b[39;00m\u001b[38;5;124m\"\u001b[39m)\n\u001b[0;32m    245\u001b[0m     ndim \u001b[38;5;241m=\u001b[39m \u001b[38;5;28mself\u001b[39m\u001b[38;5;241m.\u001b[39mobj[key]\u001b[38;5;241m.\u001b[39mndim\n\u001b[0;32m    246\u001b[0m     \u001b[38;5;28;01mreturn\u001b[39;00m \u001b[38;5;28mself\u001b[39m\u001b[38;5;241m.\u001b[39m_gotitem(key, ndim\u001b[38;5;241m=\u001b[39mndim)\n",
            "\u001b[1;31mKeyError\u001b[0m: 'Column not found: costo_inventario_dia'"
          ]
        }
      ],
      "source": [
        "import matplotlib.pyplot as plt\n",
        "\n",
        "# Agrupar por día y sumar el costo de inventario diario\n",
        "costo_por_dia = pd.DataFrame(registro_dia_a_dia).groupby('dia')['costo_inventario_dia'].sum().reset_index()\n",
        "\n",
        "# Graficar\n",
        "plt.figure(figsize=(10, 6))\n",
        "plt.plot(costo_por_dia['dia'], costo_por_dia['costo_inventario_dia'], marker='o', color='purple')\n",
        "plt.title('Costo Diario de Inventario')\n",
        "plt.xlabel('Día')\n",
        "plt.ylabel('Costo de Inventario ($)')\n",
        "plt.grid(True)\n",
        "plt.tight_layout()\n",
        "plt.show()\n"
      ]
    },
    {
      "cell_type": "markdown",
      "id": "BFJzwm_1D6ao",
      "metadata": {
        "id": "BFJzwm_1D6ao"
      },
      "source": [
        "Gráfico de Evolución de Demanda y Atención Diaria"
      ]
    },
    {
      "cell_type": "code",
      "execution_count": 95,
      "id": "FvxUsce6D873",
      "metadata": {
        "id": "FvxUsce6D873"
      },
      "outputs": [
        {
          "data": {
            "image/png": "[encoded data removed]",
            "text/plain": [
              "<Figure size 1200x600 with 1 Axes>"
            ]
          },
          "metadata": {},
          "output_type": "display_data"
        }
      ],
      "source": [
        "import matplotlib.pyplot as plt\n",
        "\n",
        "# Graficar demanda, atendido y no atendido\n",
        "plt.figure(figsize=(12, 6))\n",
        "plt.plot(resumen_dia['dia'], resumen_dia['demanda'], label='Demanda Total', marker='o')\n",
        "plt.plot(resumen_dia['dia'], resumen_dia['atendido'], label='Atendido', marker='o')\n",
        "plt.plot(resumen_dia['dia'], resumen_dia['no_atendido'], label='No Atendido', marker='o')\n",
        "plt.xlabel('Día')\n",
        "plt.ylabel('Unidades')\n",
        "plt.title('Evolución Diaria de Demanda, Atendido y No Atendido')\n",
        "plt.legend()\n",
        "plt.grid(True)\n",
        "plt.show()\n"
      ]
    },
    {
      "cell_type": "markdown",
      "id": "q2NQY8WOEB9f",
      "metadata": {
        "id": "q2NQY8WOEB9f"
      },
      "source": [
        "Gráfico del Nivel de Servicio Acumulado"
      ]
    },
    {
      "cell_type": "code",
      "execution_count": 96,
      "id": "slikRnAqEGJV",
      "metadata": {
        "id": "slikRnAqEGJV"
      },
      "outputs": [
        {
          "data": {
            "image/png": "[encoded data removed]",
            "text/plain": [
              "<Figure size 1200x600 with 1 Axes>"
            ]
          },
          "metadata": {},
          "output_type": "display_data"
        }
      ],
      "source": [
        "# Calcular nivel de servicio acumulado día a día\n",
        "resumen_dia['nivel_servicio'] = resumen_dia['atendido'] / resumen_dia['demanda']\n",
        "    \n",
        "plt.figure(figsize=(12, 6))\n",
        "plt.plot(resumen_dia['dia'], resumen_dia['nivel_servicio'], label='Nivel de Servicio', color='green', marker='o')\n",
        "plt.xlabel('Día')\n",
        "plt.ylabel('Nivel de Servicio')\n",
        "plt.title('Evolución Diaria del Nivel de Servicio')\n",
        "plt.ylim(0, 1.05)\n",
        "plt.grid(True)\n",
        "plt.legend()\n",
        "plt.show()"
      ]
    },
    {
      "cell_type": "markdown",
      "id": "mNmD5RPzENNs",
      "metadata": {
        "id": "mNmD5RPzENNs"
      },
      "source": [
        "Peores Días"
      ]
    },
    {
      "cell_type": "code",
      "execution_count": 97,
      "id": "nxkNZ4VuELVS",
      "metadata": {
        "id": "nxkNZ4VuELVS"
      },
      "outputs": [
        {
          "name": "stdout",
          "output_type": "stream",
          "text": [
            "Top 10 días con mayor cantidad de demanda no atendida:\n",
            "   dia  demanda  atendido  no_atendido  nivel_servicio\n",
            "4    5  1106839   1106810           29        0.999974\n",
            "8    9   899521    899493           28        0.999969\n",
            "9   10  1110293   1110267           26        0.999977\n",
            "3    4   899438    899418           20        0.999978\n",
            "7    8   900598    900588           10        0.999989\n",
            "2    3   897663    897654            9        0.999990\n",
            "6    7   896724    896716            8        0.999991\n",
            "1    2   896843    896835            8        0.999991\n",
            "0    1   901966    901960            6        0.999993\n",
            "5    6   900659    900654            5        0.999994\n"
          ]
        }
      ],
      "source": [
        "# Ordenar los días con mayor cantidad de demanda no atendida\n",
        "peores_dias = resumen_dia.sort_values('no_atendido', ascending=False).head(10)\n",
        "\n",
        "print(\"Top 10 días con mayor cantidad de demanda no atendida:\")\n",
        "print(peores_dias)\n"
      ]
    },
    {
      "cell_type": "markdown",
      "id": "diScIeFOERt2",
      "metadata": {
        "id": "diScIeFOERt2"
      },
      "source": [
        "Peores Tiendas con Más Demanda No Atendida"
      ]
    },
    {
      "cell_type": "code",
      "execution_count": 98,
      "id": "UeIvkqZ6ESDy",
      "metadata": {
        "id": "UeIvkqZ6ESDy"
      },
      "outputs": [
        {
          "name": "stdout",
          "output_type": "stream",
          "text": [
            "Top 10 tiendas con mayor demanda no atendida acumulada:\n",
            "           demanda  atendido  no_atendido\n",
            "id_tienda                                \n",
            "5.0         465332    465318           14\n",
            "10.0        498348    498336           12\n",
            "2.0         539814    539802           12\n",
            "11.0        527428    527417           11\n",
            "3.0         396017    396006           11\n",
            "4.0         422652    422642           10\n",
            "16.0        825964    825954           10\n",
            "1.0         469924    469915            9\n",
            "7.0         456083    456074            9\n",
            "8.0         398128    398119            9\n"
          ]
        }
      ],
      "source": [
        "# Agrupar por tienda\n",
        "peores_tiendas = resultados_df.groupby('id_tienda').agg({\n",
        "    'demanda': 'sum',\n",
        "    'atendido': 'sum',\n",
        "    'no_atendido': 'sum'\n",
        "}).sort_values('no_atendido', ascending=False).head(10)\n",
        "\n",
        "print(\"Top 10 tiendas con mayor demanda no atendida acumulada:\")\n",
        "print(peores_tiendas)\n"
      ]
    },
    {
      "cell_type": "markdown",
      "id": "a7fua2tIJkUO",
      "metadata": {
        "id": "a7fua2tIJkUO"
      },
      "source": [
        "Función de Simulación Parametrizable"
      ]
    },
    {
      "cell_type": "code",
      "execution_count": 114,
      "id": "D7f4nuboJjfC",
      "metadata": {
        "id": "D7f4nuboJjfC"
      },
      "outputs": [],
      "source": [
        "def simular_gestion_inventario(Q_factor=1.0, T=5, dias=10, costo_inventario_unitario=3.733):\n",
        "    # Inicializar stock con índice eficiente\n",
        "    stock = reorden[['id_tienda', 'id_producto', 'reorden']].copy()\n",
        "    stock['reorden'] = (stock['reorden'] * Q_factor).astype(int)\n",
        "    stock['stock_actual'] = stock['reorden']\n",
        "    stock.set_index(['id_tienda', 'id_producto'], inplace=True)\n",
        "\n",
        "    registro = []\n",
        "    costo_inventario_total = 0\n",
        "\n",
        "    for dia in range(1, dias + 1):\n",
        "        vt = ventas_tienda[ventas_tienda['dia'] == dia].copy()\n",
        "        vt.rename(columns={'venta_tienda': 'cantidad'}, inplace=True)\n",
        "        vz = ventas_zona[ventas_zona['dia'] == dia].copy()\n",
        "        vz.rename(columns={'venta_digital': 'cantidad'}, inplace=True)\n",
        "\n",
        "        demanda_dia = pd.concat([vt, vz], ignore_index=True)\n",
        "        demanda_dia = demanda_dia.groupby(['id_tienda', 'id_producto'])['cantidad'].sum().reset_index()\n",
        "\n",
        "        demanda_ajustada = []\n",
        "        for _, row in demanda_dia.iterrows():\n",
        "            id_tienda = row['id_tienda']\n",
        "            id_producto = row['id_producto']\n",
        "            base = row['cantidad']\n",
        "\n",
        "            fila_t = distribuciones_tienda[distribuciones_tienda['id_producto'] == id_producto]\n",
        "            fila_z = distribuciones_zona[distribuciones_zona['id_producto'] == id_producto]\n",
        "\n",
        "            if not fila_t.empty:\n",
        "                dist = fila_t['mejor_ajuste'].values[0]\n",
        "                p1 = fila_t['parametro1'].values[0]\n",
        "                p2 = fila_t['parametro2'].values[0] if 'parametro2' in fila_t.columns else None\n",
        "            elif not fila_z.empty:\n",
        "                dist = fila_z['mejor_ajuste'].values[0]\n",
        "                p1 = fila_z['parametro1'].values[0]\n",
        "                p2 = fila_z['parametro2'].values[0] if 'parametro2' in fila_z.columns else None\n",
        "            else:\n",
        "                dist, p1, p2 = None, None, None\n",
        "\n",
        "            variacion = generar_variacion_estocastica(dist, p1, p2) if dist else 0\n",
        "            total = max(0, int(base + variacion))\n",
        "            demanda_ajustada.append((id_tienda, id_producto, total))\n",
        "\n",
        "        for id_tienda, id_producto, cantidad in demanda_ajustada:\n",
        "            if (id_tienda, id_producto) in stock.index:\n",
        "                disponible = stock.at[(id_tienda, id_producto), 'stock_actual']\n",
        "                atendido = min(disponible, cantidad)\n",
        "                no_atendido = cantidad - atendido\n",
        "                stock.at[(id_tienda, id_producto), 'stock_actual'] -= atendido\n",
        "\n",
        "                registro.append({\n",
        "                    'dia': dia,\n",
        "                    'id_tienda': id_tienda,\n",
        "                    'id_producto': id_producto,\n",
        "                    'demanda': cantidad,\n",
        "                    'atendido': atendido,\n",
        "                    'no_atendido': no_atendido,\n",
        "                    'stock_restante': stock.at[(id_tienda, id_producto), 'stock_actual']\n",
        "                })\n",
        "\n",
        "        # Costo del día\n",
        "        stock_total = stock['stock_actual'].sum()\n",
        "        costo_dia = stock_total * costo_inventario_unitario\n",
        "        costo_inventario_total += costo_dia\n",
        "\n",
        "        if dia % T == 0:\n",
        "            stock['stock_actual'] += stock['reorden'] - stock['stock_actual']\n",
        "\n",
        "    df = pd.DataFrame(registro)\n",
        "    demanda_total = df['demanda'].sum()\n",
        "    atendido_total = df['atendido'].sum()\n",
        "    no_atendido_total = df['no_atendido'].sum()\n",
        "\n",
        "    return {\n",
        "        'Q_factor': Q_factor,\n",
        "        'T': T,\n",
        "        'Nivel_Servicio': atendido_total / demanda_total if demanda_total > 0 else 0,\n",
        "        'Costo_Inventario_Total': costo_inventario_total,\n",
        "        'Costo_Diario_Promedio': costo_inventario_total / dias,\n",
        "        'Demanda_No_Atendida_Total': no_atendido_total*4,\n",
        "        'Top_10_Productos_Con_Quiebre': df.groupby('id_producto')['no_atendido'].sum().sort_values(ascending=False).head(10).reset_index(),\n",
        "        'Resultados_Detallados': df\n",
        "    }\n"
      ]
    },
    {
      "cell_type": "markdown",
      "id": "HTmYqX-Dc2n5",
      "metadata": {
        "id": "HTmYqX-Dc2n5"
      },
      "source": [
        "# Análisis de Sensibilidad sobre Q y T"
      ]
    },
    {
      "cell_type": "code",
      "execution_count": 116,
      "id": "90238510",
      "metadata": {},
      "outputs": [
        {
          "name": "stdout",
          "output_type": "stream",
          "text": [
            "   Q_factor   T  Nivel_Servicio  Costo_Inventario_Total  \\\n",
            "0     0.050   3        0.999173            3.585430e+08   \n",
            "1     0.050   7        0.930199            3.121695e+08   \n",
            "2     0.050  10        0.787509            2.556680e+08   \n",
            "3     0.075   3        0.999942            5.708924e+08   \n",
            "4     0.075   7        0.982707            5.207245e+08   \n",
            "5     0.075  10        0.908269            4.543019e+08   \n",
            "6     0.100   3        0.999961            7.834817e+08   \n",
            "7     0.100   7        0.998784            7.323871e+08   \n",
            "8     0.100  10        0.963578            6.615095e+08   \n",
            "\n",
            "   Costo_Diario_Promedio  Demanda_No_Atendida_Total  \n",
            "0           3.585430e+07                      31140  \n",
            "1           3.121695e+07                    2628580  \n",
            "2           2.556680e+07                    8006484  \n",
            "3           5.708924e+07                       2200  \n",
            "4           5.207245e+07                     651128  \n",
            "5           4.543019e+07                    3455708  \n",
            "6           7.834817e+07                       1468  \n",
            "7           7.323871e+07                      45824  \n",
            "8           6.615095e+07                    1372748  \n"
          ]
        }
      ],
      "source": [
        "factores_Q = [0.05, 0.075, 0.1]\n",
        "frecuencias_T = [3, 7, 10]\n",
        "dias_simulados = 10\n",
        "costo_unitario = 3.733\n",
        "\n",
        "resultados_sensibilidad = []\n",
        "\n",
        "for Q in factores_Q:\n",
        "    for T in frecuencias_T:\n",
        "        res = simular_gestion_inventario(Q_factor=Q, T=T, dias=dias_simulados, costo_inventario_unitario=costo_unitario)\n",
        "        resultados_sensibilidad.append({\n",
        "            'Q_factor': Q,\n",
        "            'T': T,\n",
        "            'Nivel_Servicio': res['Nivel_Servicio'],\n",
        "            'Costo_Inventario_Total': res['Costo_Inventario_Total'],\n",
        "            'Costo_Diario_Promedio': res['Costo_Diario_Promedio'],\n",
        "            'Demanda_No_Atendida_Total': res['Demanda_No_Atendida_Total']\n",
        "        })\n",
        "\n",
        "df_sensibilidad = pd.DataFrame(resultados_sensibilidad)\n",
        "print(df_sensibilidad)\n"
      ]
    },
    {
      "cell_type": "code",
      "execution_count": null,
      "id": "4c55e01b",
      "metadata": {},
      "outputs": [],
      "source": []
    },
    {
      "cell_type": "code",
      "execution_count": 117,
      "id": "e1e711ac",
      "metadata": {},
      "outputs": [
        {
          "data": {
            "image/png": "[encoded data removed]",
            "text/plain": [
              "<Figure size 1000x600 with 1 Axes>"
            ]
          },
          "metadata": {},
          "output_type": "display_data"
        }
      ],
      "source": [
        "plt.figure(figsize=(10, 6))\n",
        "for T in df_sensibilidad['T'].unique():\n",
        "    subset = df_sensibilidad[df_sensibilidad['T'] == T]\n",
        "    plt.plot(subset['Nivel_Servicio'], subset['Costo_Inventario_Total']*4, marker='o', label=f'T = {T} días')\n",
        "\n",
        "plt.xlabel('Nivel de Servicio')\n",
        "plt.ylabel('Costo Total (Inventario)')\n",
        "plt.title('Trade-off entre Costo Total y Nivel de Servicio por Política de Reabastecimiento')\n",
        "plt.legend()\n",
        "plt.grid(True)\n",
        "plt.show()\n"
      ]
    },
    {
      "cell_type": "code",
      "execution_count": 107,
      "id": "cd50304e",
      "metadata": {},
      "outputs": [
        {
          "name": "stdout",
          "output_type": "stream",
          "text": [
            "   Q_factor   T  Nivel_Servicio  Costo_Inventario_Total  \\\n",
            "0      0.01   7        0.443501            2.062179e+07   \n",
            "1      0.01  14        0.240909            1.093517e+07   \n",
            "2      0.05   7        0.929695            3.118881e+08   \n",
            "3      0.05  14        0.787842            2.558234e+08   \n",
            "4      0.10   7        0.998820            7.324329e+08   \n",
            "5      0.10  14        0.963361            6.616244e+08   \n",
            "\n",
            "   Costo_Diario_Promedio  Demanda_No_Atendida_Total  \n",
            "0           2.062179e+06                    5239467  \n",
            "1           1.093517e+06                    7147149  \n",
            "2           3.118881e+07                     662986  \n",
            "3           2.558234e+07                    1996804  \n",
            "4           7.324329e+07                      11105  \n",
            "5           6.616244e+07                     345050  \n"
          ]
        }
      ],
      "source": [
        "factores_Q = [0.01, 0.05, 0.1]\n",
        "frecuencias_T = [7, 14]\n",
        "dias_simulados = 10\n",
        "costo_unitario = 3.733\n",
        "\n",
        "resultados_sensibilidad = []\n",
        "\n",
        "for Q in factores_Q:\n",
        "    for T in frecuencias_T:\n",
        "        res = simular_gestion_inventario(Q_factor=Q, T=T, dias=dias_simulados, costo_inventario_unitario=costo_unitario)\n",
        "        resultados_sensibilidad.append({\n",
        "            'Q_factor': Q,\n",
        "            'T': T,\n",
        "            'Nivel_Servicio': res['Nivel_Servicio'],\n",
        "            'Costo_Inventario_Total': res['Costo_Inventario_Total'],\n",
        "            'Costo_Diario_Promedio': res['Costo_Diario_Promedio'],\n",
        "            'Demanda_No_Atendida_Total': res['Demanda_No_Atendida_Total']\n",
        "        })\n",
        "\n",
        "df_sensibilidad = pd.DataFrame(resultados_sensibilidad)\n",
        "print(df_sensibilidad)\n"
      ]
    },
    {
      "cell_type": "code",
      "execution_count": 118,
      "id": "6d3210e7",
      "metadata": {},
      "outputs": [
        {
          "data": {
            "image/png": "[encoded data removed]",
            "text/plain": [
              "<Figure size 1000x600 with 1 Axes>"
            ]
          },
          "metadata": {},
          "output_type": "display_data"
        }
      ],
      "source": [
        "import seaborn as sns\n",
        "\n",
        "plt.figure(figsize=(10, 6))\n",
        "sns.barplot(\n",
        "    data=df_sensibilidad,\n",
        "    x='T',\n",
        "    y='Demanda_No_Atendida_Total',\n",
        "    hue='Q_factor'\n",
        ")\n",
        "plt.xlabel('Frecuencia de Reabastecimiento (T)')\n",
        "plt.ylabel('Demanda No Atendida Total')\n",
        "plt.title('Demanda No Atendida según Política Q-T')\n",
        "plt.grid(True)\n",
        "plt.legend(title='Q Factor')\n",
        "plt.show()\n"
      ]
    },
    {
      "cell_type": "code",
      "execution_count": 119,
      "id": "7379a767",
      "metadata": {},
      "outputs": [
        {
          "data": {
            "image/png": "[encoded data removed]",
            "text/plain": [
              "<Figure size 1000x500 with 1 Axes>"
            ]
          },
          "metadata": {},
          "output_type": "display_data"
        }
      ],
      "source": [
        "stock_por_dia = resultados_df.groupby('dia')['stock_restante'].sum().reset_index()\n",
        "\n",
        "plt.figure(figsize=(10, 5))\n",
        "plt.plot(stock_por_dia['dia'], stock_por_dia['stock_restante'], marker='o')\n",
        "plt.xlabel('Día')\n",
        "plt.ylabel('Stock Total Restante')\n",
        "plt.title('Evolución del Stock Total Restante en el Caso Base')\n",
        "plt.grid(True)\n",
        "plt.show()\n"
      ]
    }
  ],
  "metadata": {
    "colab": {
      "provenance": []
    },
    "kernelspec": {
      "display_name": "Python 3",
      "name": "python3"
    },
    "language_info": {
      "codemirror_mode": {
        "name": "ipython",
        "version": 3
      },
      "file_extension": ".py",
      "mimetype": "text/x-python",
      "name": "python",
      "nbconvert_exporter": "python",
      "pygments_lexer": "ipython3",
      "version": "3.10.11"
    }
  },
  "nbformat": 4,
  "nbformat_minor": 5
}
